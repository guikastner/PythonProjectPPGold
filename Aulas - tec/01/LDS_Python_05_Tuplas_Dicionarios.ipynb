{
  "cells": [
    {
      "cell_type": "markdown",
      "metadata": {
        "colab_type": "text",
        "id": "view-in-github"
      },
      "source": [
        "<a href=\"https://colab.research.google.com/github/EduPekUfpr/Python/blob/main/LDS_Python_05_Tuplas_Dicionarios.ipynb\" target=\"_parent\"><img src=\"https://colab.research.google.com/assets/colab-badge.svg\" alt=\"Open In Colab\"/></a>"
      ]
    },
    {
      "cell_type": "markdown",
      "metadata": {
        "id": "kxQ0h6rEsuR9"
      },
      "source": [
        "<p style =\"text-align:center\">\n",
        "    <img src=\"http://epecora.com.br/DataFiles/BannerUFPR.png\" width=\"700\" alt=\"PPGOLD/PPGMNE Python:INTRO\"  />\n",
        "</p>\n",
        "\n",
        "\n",
        "# **Python Básico**\n",
        "\n",
        "## Tuplas\n",
        "\n",
        "Em Python, uma tupla é uma coleção ordenada e imutável de elementos. Ela é similar a uma lista, mas, ao contrário das listas, uma vez criada, não pode ser modificada. As tuplas são úteis quando você deseja garantir que os dados não serão alterados ao longo do tempo.\n"
      ]
    },
    {
      "cell_type": "code",
      "execution_count": null,
      "metadata": {
        "colab": {
          "base_uri": "https://localhost:8080/"
        },
        "id": "EtXijVzpsuSL",
        "outputId": "1752c336-b650-48f0-9acd-2301dd1bf045"
      },
      "outputs": [
        {
          "name": "stdout",
          "output_type": "stream",
          "text": [
            "verde\n",
            "('vermelho', 'verde')\n",
            "azul\n"
          ]
        }
      ],
      "source": [
        "# Criando uma tupla de cores\n",
        "cores = (\"vermelho\", \"verde\", \"azul\")\n",
        "\n",
        "# Acessando um elemento da tupla\n",
        "print(cores[1])\n",
        "\n",
        "# Acessando alguns elemento da tupla, como uma subtupla\n",
        "print(cores[0:2])\n",
        "\n",
        "# Acessando ultimo elemento da tupla\n",
        "print(cores[-1])"
      ]
    },
    {
      "cell_type": "markdown",
      "metadata": {
        "id": "8JWatVpjBMpP"
      },
      "source": [
        "Tentativa de modificar um elemento <font color='green'>(vai dar erro!)</font>"
      ]
    },
    {
      "cell_type": "code",
      "execution_count": 2,
      "metadata": {
        "colab": {
          "base_uri": "https://localhost:8080/"
        },
        "id": "BSLmzwvCsuSL",
        "outputId": "af6126fd-aff2-4ca1-ad74-954b152b211b"
      },
      "outputs": [
        {
          "ename": "NameError",
          "evalue": "name 'cores' is not defined",
          "output_type": "error",
          "traceback": [
            "\u001b[31m---------------------------------------------------------------------------\u001b[39m",
            "\u001b[31mNameError\u001b[39m                                 Traceback (most recent call last)",
            "\u001b[36mCell\u001b[39m\u001b[36m \u001b[39m\u001b[32mIn[2]\u001b[39m\u001b[32m, line 3\u001b[39m\n\u001b[32m      1\u001b[39m \u001b[38;5;66;03m# Tentativa de modificar um elemento (causa um erro)\u001b[39;00m\n\u001b[32m      2\u001b[39m \u001b[38;5;28;01mtry\u001b[39;00m:\n\u001b[32m----> \u001b[39m\u001b[32m3\u001b[39m   \u001b[43mcores\u001b[49m[\u001b[32m0\u001b[39m] = \u001b[33m\"\u001b[39m\u001b[33mamarelo\u001b[39m\u001b[33m\"\u001b[39m  \u001b[38;5;66;03m# Isto causará um erro, pois tuplas são imutáveis\u001b[39;00m\n\u001b[32m      4\u001b[39m \u001b[38;5;28;01mexcept\u001b[39;00m \u001b[38;5;167;01mTypeError\u001b[39;00m \u001b[38;5;28;01mas\u001b[39;00m e:\n\u001b[32m      5\u001b[39m   \u001b[38;5;28mprint\u001b[39m(\u001b[33mf\u001b[39m\u001b[33m\"\u001b[39m\u001b[33mErro: \u001b[39m\u001b[38;5;132;01m{\u001b[39;00me\u001b[38;5;132;01m}\u001b[39;00m\u001b[33m\"\u001b[39m)\n",
            "\u001b[31mNameError\u001b[39m: name 'cores' is not defined"
          ]
        }
      ],
      "source": [
        "# Tentativa de modificar um elemento (causa um erro)\n",
        "try:\n",
        "  cores[0] = \"amarelo\"  # Isto causará um erro, pois tuplas são imutáveis\n",
        "except TypeError as e:\n",
        "  print(f\"Erro: {e}\")"
      ]
    },
    {
      "cell_type": "markdown",
      "metadata": {
        "id": "pigZ_P9ZsuSL"
      },
      "source": [
        "Assim como as listas, tuplas de todos os tipos de variáveis e estruturas podem ser criadas."
      ]
    },
    {
      "cell_type": "markdown",
      "metadata": {
        "id": "itk3T1gwsuSL"
      },
      "source": [
        "------\n",
        "------\n",
        "## Dicionários\n",
        "\n",
        "Em Python, um dicionário é uma coleção de pares chave-valor.\n",
        "\n",
        "Cada chave é única e mapeia para um valor associado. Dicionários são úteis para armazenar dados que precisam ser acessados por uma chave específica, em vez de um índice numérico, como em listas.\n"
      ]
    },
    {
      "cell_type": "code",
      "execution_count": 3,
      "metadata": {
        "colab": {
          "base_uri": "https://localhost:8080/"
        },
        "id": "g9WMnWFbsuSL",
        "outputId": "1d885d30-805f-4cb6-e23c-11ea86a5be8e"
      },
      "outputs": [
        {
          "name": "stdout",
          "output_type": "stream",
          "text": [
            "{'nome': 'Maria', 'idade': 22, 'curso': 'Administração', 'universidade': 'UFPR', 'interesses': {'Python', 'Métodos Quantitativos', 'Liga Data Science'}}\n"
          ]
        }
      ],
      "source": [
        "# Criando um dicionário de informações de um aluno\n",
        "aluno = {\n",
        "    \"nome\": \"Maria\",\n",
        "    \"idade\": 22,\n",
        "    \"curso\": \"Administração\",\n",
        "    \"universidade\": \"UFPR\",\n",
        "    \"interesses\": {\"Métodos Quantitativos\", \"Python\", \"Liga Data Science\"}\n",
        "}\n",
        "\n",
        "print(aluno)"
      ]
    },
    {
      "cell_type": "code",
      "execution_count": 4,
      "metadata": {
        "colab": {
          "base_uri": "https://localhost:8080/"
        },
        "id": "77FjKqVFsuSL",
        "outputId": "6e612450-b75c-4ce9-a8ae-e73c4036bdfb"
      },
      "outputs": [
        {
          "name": "stdout",
          "output_type": "stream",
          "text": [
            "Maria\n"
          ]
        }
      ],
      "source": [
        "# Acessando um valor pelo nome da chave\n",
        "print(aluno[\"nome\"])"
      ]
    },
    {
      "cell_type": "code",
      "execution_count": 5,
      "metadata": {
        "colab": {
          "base_uri": "https://localhost:8080/"
        },
        "id": "Yjhw1vtnsuSL",
        "outputId": "8eca8d40-4536-4b88-b1e6-28e5e76a97c6"
      },
      "outputs": [
        {
          "name": "stdout",
          "output_type": "stream",
          "text": [
            "{'nome': 'Maria', 'idade': 23, 'curso': 'Administração', 'universidade': 'UFPR', 'interesses': {'Python', 'Métodos Quantitativos', 'Liga Data Science'}}\n"
          ]
        }
      ],
      "source": [
        "# Modificando um valor no dicionário\n",
        "aluno[\"idade\"] = 23\n",
        "\n",
        "print(aluno)"
      ]
    },
    {
      "cell_type": "code",
      "execution_count": 7,
      "metadata": {
        "colab": {
          "base_uri": "https://localhost:8080/"
        },
        "id": "Q6HZGGBKsuSM",
        "outputId": "7313f578-df77-4f85-85db-c539e3841a5a"
      },
      "outputs": [
        {
          "name": "stdout",
          "output_type": "stream",
          "text": [
            "{'nome': 'Maria', 'idade': 23, 'curso': 'Administração', 'universidade': 'UFPR', 'interesses': {'Python', 'Métodos Quantitativos', 'Liga Data Science'}, 'cidade': 'Curitiba'}\n"
          ]
        }
      ],
      "source": [
        "# Adicionando um novo par chave-valor ao dicionário\n",
        "aluno[\"cidade\"] = \"Curitiba\"\n",
        "\n",
        "print(aluno)"
      ]
    },
    {
      "cell_type": "code",
      "execution_count": 8,
      "metadata": {
        "colab": {
          "base_uri": "https://localhost:8080/"
        },
        "id": "wbIR_JgbsuSM",
        "outputId": "422d7512-e8fc-41a7-c332-84da9f099af2"
      },
      "outputs": [
        {
          "name": "stdout",
          "output_type": "stream",
          "text": [
            "{'nome': 'Maria', 'idade': 23, 'universidade': 'UFPR', 'interesses': {'Python', 'Métodos Quantitativos', 'Liga Data Science'}, 'cidade': 'Curitiba'}\n"
          ]
        }
      ],
      "source": [
        "# Removendo um par chave-valor\n",
        "del aluno[\"curso\"]\n",
        "\n",
        "print(aluno)"
      ]
    },
    {
      "cell_type": "markdown",
      "metadata": {
        "id": "sbhntSM5suSM"
      },
      "source": [
        "Assim como para listas e tuplas, os objetos \"valor\" dos dicionários podem ser de todos os tipos e estruturas.\n",
        "\n",
        "Mas estruturas como conjuntos, listas e dicionários não podem ser usadas como chave."
      ]
    },
    {
      "cell_type": "markdown",
      "metadata": {
        "id": "Ni_KRs_DCvld"
      },
      "source": [
        "### Tabela resumo\n",
        "\n",
        "| Estrutura     | Ordenada | Mutável | Elementos Únicos |\n",
        "|---------------|----------|---------|------------------|\n",
        "| **Listas**    | Sim      | Sim     | Não              |\n",
        "| **Conjuntos** | Não      | Sim     | Sim              |\n",
        "| **Tuplas**    | Sim      | Não     | Não              |\n",
        "| **Dicionários** | Não    | Sim     | Chaves únicas    |"
      ]
    },
    {
      "cell_type": "markdown",
      "metadata": {
        "id": "bwfBdIyGQqSK"
      },
      "source": [
        "## Autores\n",
        "\n",
        "<a href=\"https://www.linkedin.com/in/eduardopecora/\" target=\"_blank\">Eduardo Pecora</a>\n",
        "\n",
        "<a href=\"https://www.linkedin.com/in/jo%C3%A3o-gabriel-santin-botelho-618244222/\" target=\"_blank\">João Gabriel Santin Botelho</a>\n",
        "\n",
        "\n",
        "## Log de modificações\n",
        "\n",
        "| Data | Versão | Modificado por | Descrição |\n",
        "| ----------------- | ------- | ---------- | ---------------------------------- |\n",
        "| 29-08-2024       | 1.0     | Eduardo Pecora & João Gabriel| Inicial               |\n",
        "\n",
        "<hr>\n",
        "\n",
        "## <h3 align=\"center\"> (c) Liga Data Science/ UFPR 2024. All rights reserved. <h3/>"
      ]
    }
  ],
  "metadata": {
    "colab": {
      "include_colab_link": true,
      "provenance": []
    },
    "kernelspec": {
      "display_name": "venv",
      "language": "python",
      "name": "python3"
    },
    "language_info": {
      "codemirror_mode": {
        "name": "ipython",
        "version": 3
      },
      "file_extension": ".py",
      "mimetype": "text/x-python",
      "name": "python",
      "nbconvert_exporter": "python",
      "pygments_lexer": "ipython3",
      "version": "3.13.1"
    }
  },
  "nbformat": 4,
  "nbformat_minor": 0
}
