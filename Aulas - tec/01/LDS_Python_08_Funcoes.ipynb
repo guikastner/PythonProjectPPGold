{
  "cells": [
    {
      "cell_type": "markdown",
      "metadata": {
        "colab_type": "text",
        "id": "view-in-github"
      },
      "source": [
        "<a href=\"https://colab.research.google.com/github/EduPekUfpr/Python/blob/main/LDS_Python_08_Funcoes.ipynb\" target=\"_parent\"><img src=\"https://colab.research.google.com/assets/colab-badge.svg\" alt=\"Open In Colab\"/></a>"
      ]
    },
    {
      "cell_type": "markdown",
      "metadata": {
        "id": "kxQ0h6rEsuR9"
      },
      "source": [
        "<p style =\"text-align:center\">\n",
        "    <img src=\"http://epecora.com.br/DataFiles/BannerUFPR.png\" width=\"700\" alt=\"PPGOLD/PPGMNE Python:INTRO\"  />\n",
        "</p>\n",
        "\n",
        "\n",
        "# **Python Básico**\n",
        "\n",
        "<a id=\"functions\"></a>\n",
        "# **Funções**\n",
        "\n",
        "Uma função em Python é um bloco de código que realiza uma tarefa específica. Funções ajudam a organizar e reutilizar o código, tornando os programas mais modulares e fáceis de entender. Uma função pode receber entradas (chamadas de parâmetros) e pode retornar um resultado.\n",
        "\n",
        "- Reutilização de Código: Evita a repetição de código, permitindo que você o use várias vezes;\n",
        "- Modularidade: Torna o código mais organizado e fácil de manter;\n",
        "- Legibilidade: Funções bem nomeadas ajudam a entender o que o código faz, tornando-o mais legível."
      ]
    },
    {
      "cell_type": "markdown",
      "metadata": {
        "id": "9tfm7xCiGw1F"
      },
      "source": [
        "## Sintax\n",
        "\n",
        "```python\n",
        "def nome_da_funcao(parametro1, parametro2, ...):\n",
        "    # Bloco de documentação da função\n",
        "    # Corpo da função\n",
        "    # Pode conter uma ou mais instruções\n",
        "    return valor_de_retorno\n",
        "```\n",
        "* nome_da_funcao: é o nome que você atribui à função.\n",
        "* parametro1, parametro2, ...: são os parâmetros de entrada da função. Eles são opcionais e podem ser usados para passar informações para a função.\n",
        "* return valor_de_retorno: a instrução return é usada para especificar o valor de retorno da função. Este é o valor que a função retorna quando é chamada.\n",
        "\n",
        "## Exemplos"
      ]
    },
    {
      "cell_type": "code",
      "execution_count": 1,
      "metadata": {
        "colab": {
          "base_uri": "https://localhost:8080/"
        },
        "id": "GxIIe6yvmsgc",
        "outputId": "ff71220e-9a4a-435f-aa85-86ae3e4965af"
      },
      "outputs": [
        {
          "name": "stdout",
          "output_type": "stream",
          "text": [
            "Hello from a Liga Data Science\n"
          ]
        }
      ],
      "source": [
        "def my_function():\n",
        "  # Imprime um \"Hello\"\n",
        "\n",
        "  print(\"Hello from a Liga Data Science\")\n",
        "\n",
        "my_function()"
      ]
    },
    {
      "cell_type": "markdown",
      "metadata": {
        "id": "8re5NYpAnmXh"
      },
      "source": [
        "## Funções com argumentos"
      ]
    },
    {
      "cell_type": "code",
      "execution_count": 2,
      "metadata": {
        "id": "THjp-ux8mvpd"
      },
      "outputs": [],
      "source": [
        "def oi_da_funcao(nome = \"Junior\"): # Argumento (nome) Default é \"Junior\", mas pode ser alterado\n",
        "  # Cumprimentar a pessoa\n",
        "  print(\"Oi \" + nome + \". Ass. Função.\")"
      ]
    },
    {
      "cell_type": "code",
      "execution_count": 3,
      "metadata": {
        "colab": {
          "base_uri": "https://localhost:8080/"
        },
        "id": "WnznoUm0IqbK",
        "outputId": "12671494-79c3-4179-d3dd-5ecf725a1b4b"
      },
      "outputs": [
        {
          "name": "stdout",
          "output_type": "stream",
          "text": [
            "Oi Junior. Ass. Função.\n",
            "Oi Maria. Ass. Função.\n"
          ]
        }
      ],
      "source": [
        "oi_da_funcao()  # Usa o Default\n",
        "\n",
        "oi_da_funcao(\"Maria\") # Muda o nome default"
      ]
    },
    {
      "cell_type": "markdown",
      "metadata": {
        "id": "YeZuGD2cn-pa"
      },
      "source": [
        "## Funções com mais de um argumento"
      ]
    },
    {
      "cell_type": "code",
      "execution_count": 5,
      "metadata": {
        "colab": {
          "base_uri": "https://localhost:8080/"
        },
        "id": "Y3XCVxUan-a1",
        "outputId": "5900a1d6-ce6b-4125-d6ee-41219296adb6"
      },
      "outputs": [
        {
          "name": "stdout",
          "output_type": "stream",
          "text": [
            "Zé e Maria são casados\n"
          ]
        }
      ],
      "source": [
        "def casamento(lname, rname):\n",
        "  # Situação matrimonial\n",
        "  print(lname + \" e \" + rname + \" são casados\")\n",
        "\n",
        "casamento(\"Zé\", \"Maria\")\n"
      ]
    },
    {
      "cell_type": "markdown",
      "metadata": {
        "id": "VcqPDXrFoQXL"
      },
      "source": [
        "### <font color='green'>(*Vai* dar erro!)</font>\n",
        "\n",
        "Tive de corrigir"
      ]
    },
    {
      "cell_type": "code",
      "execution_count": 10,
      "metadata": {
        "colab": {
          "base_uri": "https://localhost:8080/",
          "height": 141
        },
        "id": "iQpk4nVKnbLN",
        "outputId": "ac4a73b3-268b-4cbc-922c-de367918e1f6"
      },
      "outputs": [
        {
          "name": "stdout",
          "output_type": "stream",
          "text": [
            "Zé e Larissa são casados\n"
          ]
        }
      ],
      "source": [
        "casamento(\"Zé\", \"Larissa\")"
      ]
    },
    {
      "cell_type": "markdown",
      "metadata": {
        "id": "YAMGlUupox4y"
      },
      "source": [
        "## Se houver o Default não gera erro"
      ]
    },
    {
      "cell_type": "code",
      "execution_count": 8,
      "metadata": {
        "colab": {
          "base_uri": "https://localhost:8080/"
        },
        "id": "ksyhuCsloUKK",
        "outputId": "43e1a31c-2ef3-4b34-b0ac-5f8a37b0ae5b"
      },
      "outputs": [
        {
          "name": "stdout",
          "output_type": "stream",
          "text": [
            "Zé e Maria são casados\n"
          ]
        }
      ],
      "source": [
        "def casamento(lname = \"Zé\", rname = \"Maria\"):\n",
        "  print(lname + \" e \" + rname + \" são casados\")\n",
        "\n",
        "casamento(\"Zé\")\n"
      ]
    },
    {
      "cell_type": "code",
      "execution_count": null,
      "metadata": {
        "colab": {
          "base_uri": "https://localhost:8080/"
        },
        "id": "VlKIvDEXoncO",
        "outputId": "dd34e625-710e-4394-ea10-e7ecc4cd40d2"
      },
      "outputs": [
        {
          "name": "stdout",
          "output_type": "stream",
          "text": [
            "João e Maria são casados\n",
            "João e Solange são casados\n"
          ]
        }
      ],
      "source": [
        "casamento(\"João\")\n",
        "casamento(\"João\", \"Solange\")"
      ]
    },
    {
      "cell_type": "markdown",
      "metadata": {
        "id": "aaU303dbpIdF"
      },
      "source": [
        "### Quer trocar só o segundo argumento ? -> Especifique"
      ]
    },
    {
      "cell_type": "code",
      "execution_count": null,
      "metadata": {
        "colab": {
          "base_uri": "https://localhost:8080/"
        },
        "id": "pTjT9HxQopHo",
        "outputId": "076d430a-d9eb-4f95-c367-7bf6e6498479"
      },
      "outputs": [
        {
          "name": "stdout",
          "output_type": "stream",
          "text": [
            "Zé e Rita são casados\n"
          ]
        }
      ],
      "source": [
        "casamento(rname = \"Rita\")"
      ]
    },
    {
      "cell_type": "markdown",
      "metadata": {
        "id": "qz9g08-2qSYq"
      },
      "source": [
        "## Passar uma lista (ou qualquer outra estrutura) como argumento da função"
      ]
    },
    {
      "cell_type": "code",
      "execution_count": 11,
      "metadata": {
        "colab": {
          "base_uri": "https://localhost:8080/"
        },
        "id": "9q06fcTSouR_",
        "outputId": "8482bc8f-2bd4-4429-8713-f715602901b3"
      },
      "outputs": [
        {
          "name": "stdout",
          "output_type": "stream",
          "text": [
            "Platão\n",
            "Aristóteles\n",
            "Sócrates\n",
            "Badin\n"
          ]
        }
      ],
      "source": [
        "def imprime_lista(minha_lista):\n",
        "  for x in minha_lista:\n",
        "    print(x)\n",
        "\n",
        "minha_lista = [\"Platão\", \"Aristóteles\", \"Sócrates\",\"Badin\"]\n",
        "\n",
        "imprime_lista(minha_lista)\n",
        "\n",
        "# pra quem não conhece o Badin https://www.youtube.com/@Badincolono"
      ]
    },
    {
      "cell_type": "markdown",
      "metadata": {
        "id": "bgU3Wyk5tvx-"
      },
      "source": [
        "O nome do argumento na função pode ser diferente do nome da chamada da função"
      ]
    },
    {
      "cell_type": "code",
      "execution_count": 12,
      "metadata": {
        "colab": {
          "base_uri": "https://localhost:8080/"
        },
        "id": "8qT2Q_flqiv0",
        "outputId": "081390b9-2df5-4e8e-a6a0-54b244cc1440"
      },
      "outputs": [
        {
          "name": "stdout",
          "output_type": "stream",
          "text": [
            "Banana\n",
            "Maçã\n",
            "Goiaba\n",
            "Ameixa\n"
          ]
        }
      ],
      "source": [
        "frutas = [\"Banana\", \"Maçã\", \"Goiaba\",\"Ameixa\"]\n",
        "\n",
        "imprime_lista(frutas)"
      ]
    },
    {
      "cell_type": "markdown",
      "metadata": {
        "id": "5GNv1gvysuSN"
      },
      "source": [
        "## Criando uma Função"
      ]
    },
    {
      "cell_type": "code",
      "execution_count": 14,
      "metadata": {
        "id": "j6qgbc00suSN"
      },
      "outputs": [],
      "source": [
        "#Exemplo de função\n",
        "def cumprimento(nome,horario):\n",
        "\n",
        "    \"\"\"\n",
        "    Args:\n",
        "        nome: nome de quem será cumprimentado;\n",
        "        horario: hora do cumprimento, padrão 24hs.\n",
        "\n",
        "    Return: nada. Somente imprime um cumprimento com base no horário e nome.\n",
        "    \"\"\"\n",
        "\n",
        "    if horario >= 18:\n",
        "        print(f\"Boa noite, {nome}!\")\n",
        "    elif horario >= 12:\n",
        "        print(f\"Boa tarde, {nome}!\")\n",
        "    elif horario >= 6:\n",
        "        print(f\"Bom dia, {nome}!\")\n"
      ]
    },
    {
      "cell_type": "code",
      "execution_count": 15,
      "metadata": {
        "colab": {
          "base_uri": "https://localhost:8080/"
        },
        "id": "s7Aw7_ScsuSN",
        "outputId": "4be72039-3118-4c4e-eadc-1d6be4b16589"
      },
      "outputs": [
        {
          "name": "stdout",
          "output_type": "stream",
          "text": [
            "Bom dia, Pedro!\n",
            "Boa tarde, Lucas!\n",
            "Boa noite, Alice!\n"
          ]
        }
      ],
      "source": [
        "cumprimento('Pedro',10)\n",
        "cumprimento('Lucas',15)\n",
        "cumprimento('Alice',21)"
      ]
    },
    {
      "cell_type": "code",
      "execution_count": 16,
      "metadata": {
        "id": "sDlT73r1suSN"
      },
      "outputs": [],
      "source": [
        "#Exemplo de função\n",
        "def soma(numeros):\n",
        "\n",
        "    \"\"\"\n",
        "    Args:\n",
        "        numeros: lista de números a serem somados.\n",
        "\n",
        "    Return: soma dos números da lista.\n",
        "    \"\"\"\n",
        "\n",
        "    soma = 0\n",
        "    for n in numeros:\n",
        "        soma = soma + n\n",
        "\n",
        "    #de forma alternativa podemos fazer:\n",
        "    #soma = sum(somatorio)\n",
        "\n",
        "    return soma"
      ]
    },
    {
      "cell_type": "code",
      "execution_count": 17,
      "metadata": {
        "colab": {
          "base_uri": "https://localhost:8080/"
        },
        "id": "83cUL9gksuSN",
        "outputId": "9f587509-ef9c-48a4-e0c7-702b880e8c40"
      },
      "outputs": [
        {
          "data": {
            "text/plain": [
              "15"
            ]
          },
          "execution_count": 17,
          "metadata": {},
          "output_type": "execute_result"
        }
      ],
      "source": [
        "soma([1,2,3,4,5])"
      ]
    },
    {
      "cell_type": "markdown",
      "metadata": {
        "id": "YORlrndysuSN"
      },
      "source": [
        "## Variáveis Globais e Locais"
      ]
    },
    {
      "cell_type": "code",
      "execution_count": null,
      "metadata": {
        "id": "JR4bpx47suSN"
      },
      "outputs": [],
      "source": [
        "#Exemplo de como uma função pode usar uma variável global e criar variáveis locais\n",
        "def global_local():\n",
        "\n",
        "    a = global_var #dentro de funções podemos usar variáveis criada fora delas\n",
        "\n",
        "    local_var = 10 #podemos criar variáveis dentro da funções\n",
        "\n",
        "    return a + local_var"
      ]
    },
    {
      "cell_type": "code",
      "execution_count": null,
      "metadata": {
        "colab": {
          "base_uri": "https://localhost:8080/"
        },
        "id": "CwnxfmNfsuSO",
        "outputId": "0cbae53b-937e-4b7e-dece-24fffe9464d1"
      },
      "outputs": [
        {
          "name": "stdout",
          "output_type": "stream",
          "text": [
            "15\n",
            "5\n"
          ]
        }
      ],
      "source": [
        "global_var = 5\n",
        "\n",
        "print(global_local())\n",
        "print(global_var)"
      ]
    },
    {
      "cell_type": "markdown",
      "metadata": {
        "id": "AUr0bJM7K9uF"
      },
      "source": [
        "### <font color='green'>(*Vai* dar erro!)</font>"
      ]
    },
    {
      "cell_type": "code",
      "execution_count": 18,
      "metadata": {
        "id": "ZJX0ElaPK83v"
      },
      "outputs": [
        {
          "ename": "NameError",
          "evalue": "name 'local_var' is not defined",
          "output_type": "error",
          "traceback": [
            "\u001b[31m---------------------------------------------------------------------------\u001b[39m",
            "\u001b[31mNameError\u001b[39m                                 Traceback (most recent call last)",
            "\u001b[36mCell\u001b[39m\u001b[36m \u001b[39m\u001b[32mIn[18]\u001b[39m\u001b[32m, line 1\u001b[39m\n\u001b[32m----> \u001b[39m\u001b[32m1\u001b[39m \u001b[38;5;28mprint\u001b[39m(\u001b[43mlocal_var\u001b[49m) \u001b[38;5;66;03m#temos um erro já que essa variável foi criada e deletada no ambiente da função\u001b[39;00m\n",
            "\u001b[31mNameError\u001b[39m: name 'local_var' is not defined"
          ]
        }
      ],
      "source": [
        "print(local_var) #temos um erro já que essa variável foi criada e deletada no ambiente da função"
      ]
    },
    {
      "cell_type": "markdown",
      "metadata": {
        "id": "KSc1H89JsuSO"
      },
      "source": [
        "## Funções dentro de funções, recursão\n",
        "\n",
        "Para ilustrar vamos usar a sequencia de Fibonacci.\n",
        "\n",
        "A sequência de Fibonacci é uma série de números onde cada número é a soma dos dois anteriores, começando com 0 e 1. A sequência é definida de forma recursiva da seguinte maneira:\n",
        "\n",
        "\t•\tO primeiro número da sequência é 1.\n",
        "\t•\tO segundo número da sequência também é 1.\n",
        "\t•\tCada número subsequente é a soma dos dois números anteriores.\n",
        "\n",
        "Fórmula Recursiva\n",
        "\n",
        "Matematicamente, a sequência de Fibonacci pode ser definida assim:\n",
        "\n",
        " $F(0) = 1 $\n",
        "\n",
        " $F(1) = 1 $\n",
        "\n",
        " $F(n) = F(n-1) + F(n-2) \\quad \\text{para } n \\geq 2 $"
      ]
    },
    {
      "cell_type": "code",
      "execution_count": null,
      "metadata": {
        "id": "eAzboTqxsuSO"
      },
      "outputs": [],
      "source": [
        "#Exemplo de recursão\n",
        "def fibonacci_recursao(n):\n",
        "\n",
        "    \"\"\"\n",
        "    Args:\n",
        "        n: posição da sequência de fibonacci.\n",
        "\n",
        "    Return: retorna o valor da enésima posição da sequência de fibonacci utilizando recursão.\n",
        "    \"\"\"\n",
        "\n",
        "    if n <= 1:\n",
        "        return n\n",
        "    else:\n",
        "        return fibonacci_recursao(n-1) + fibonacci_recursao(n-2)\n",
        "\n"
      ]
    },
    {
      "cell_type": "code",
      "execution_count": null,
      "metadata": {
        "colab": {
          "base_uri": "https://localhost:8080/"
        },
        "id": "bWq_l_RMsuSO",
        "outputId": "44fbda53-ee6c-4e41-ebf9-47c484d3bfd6"
      },
      "outputs": [
        {
          "data": {
            "text/plain": [
              "9227465"
            ]
          },
          "execution_count": 194,
          "metadata": {},
          "output_type": "execute_result"
        }
      ],
      "source": [
        "fibonacci_recursao(35)"
      ]
    },
    {
      "cell_type": "code",
      "execution_count": null,
      "metadata": {
        "id": "RoZyHyxIsuSO"
      },
      "outputs": [],
      "source": [
        "#Exemplo sem recursão\n",
        "def fibonacci_sem_recursao(n):\n",
        "\n",
        "    \"\"\"\n",
        "    Args:\n",
        "        n: posição da sequência de fibonacci.\n",
        "\n",
        "    Return: retorna o valor da enésima posição da sequência de fibonacci sem utilizar recursão.\n",
        "    \"\"\"\n",
        "\n",
        "    anterior = -1\n",
        "    proximo = 1\n",
        "    for i in range(n+1):\n",
        "        auxiliar = proximo\n",
        "        proximo = proximo + anterior\n",
        "        anterior = auxiliar\n",
        "\n",
        "    return proximo"
      ]
    },
    {
      "cell_type": "code",
      "execution_count": null,
      "metadata": {
        "colab": {
          "base_uri": "https://localhost:8080/"
        },
        "id": "TcX9bv5xsuSO",
        "outputId": "6a6a8958-b7ea-42a0-b2b7-726478310ba6"
      },
      "outputs": [
        {
          "data": {
            "text/plain": [
              "9227465"
            ]
          },
          "execution_count": 192,
          "metadata": {},
          "output_type": "execute_result"
        }
      ],
      "source": [
        "fibonacci_sem_recursao(35)"
      ]
    },
    {
      "cell_type": "code",
      "execution_count": null,
      "metadata": {
        "colab": {
          "base_uri": "https://localhost:8080/"
        },
        "id": "Qdem18h7MU6G",
        "outputId": "56b01695-3187-4b3f-c50f-1e844da73400"
      },
      "outputs": [
        {
          "name": "stdout",
          "output_type": "stream",
          "text": [
            "[1, 1, 2, 3, 5, 8, 13, 21, 34, 55]\n"
          ]
        }
      ],
      "source": [
        "def fibonacci(n):\n",
        "    # Gera uma lista com a sequencia de Fibonacci\n",
        "\n",
        "    sequencia = [1, 1]\n",
        "    while len(sequencia) < n:\n",
        "        sequencia.append(sequencia[-1] + sequencia[-2])\n",
        "    return sequencia\n",
        "\n",
        "# Gerando os primeiros 10 números da sequência de Fibonacci\n",
        "print(fibonacci(10))"
      ]
    },
    {
      "cell_type": "markdown",
      "metadata": {
        "id": "bwfBdIyGQqSK"
      },
      "source": [
        "## Autores\n",
        "\n",
        "<a href=\"https://www.linkedin.com/in/eduardopecora/\" target=\"_blank\">Eduardo Pecora</a>\n",
        "\n",
        "<a href=\"https://www.linkedin.com/in/jo%C3%A3o-gabriel-santin-botelho-618244222/\" target=\"_blank\">João Gabriel Santin Botelho</a>\n",
        "\n",
        "\n",
        "## Log de modificações\n",
        "\n",
        "| Data | Versão | Modificado por | Descrição |\n",
        "| ----------------- | ------- | ---------- | ---------------------------------- |\n",
        "| 29-08-2024       | 1.0     | Eduardo Pecora & João Gabriel| Inicial               |\n",
        "\n",
        "<hr>\n",
        "\n",
        "## <h3 align=\"center\"> (c) Liga Data Science/ UFPR 2024. All rights reserved. <h3/>"
      ]
    }
  ],
  "metadata": {
    "colab": {
      "include_colab_link": true,
      "provenance": []
    },
    "kernelspec": {
      "display_name": "venv",
      "language": "python",
      "name": "python3"
    },
    "language_info": {
      "codemirror_mode": {
        "name": "ipython",
        "version": 3
      },
      "file_extension": ".py",
      "mimetype": "text/x-python",
      "name": "python",
      "nbconvert_exporter": "python",
      "pygments_lexer": "ipython3",
      "version": "3.13.1"
    }
  },
  "nbformat": 4,
  "nbformat_minor": 0
}
