{
  "cells": [
    {
      "cell_type": "markdown",
      "metadata": {
        "colab_type": "text",
        "id": "view-in-github"
      },
      "source": [
        "<a href=\"https://colab.research.google.com/github/EduPekUfpr/Python/blob/main/LDS_Python_03_Strings.ipynb\" target=\"_parent\"><img src=\"https://colab.research.google.com/assets/colab-badge.svg\" alt=\"Open In Colab\"/></a>"
      ]
    },
    {
      "cell_type": "markdown",
      "metadata": {
        "id": "kxQ0h6rEsuR9"
      },
      "source": [
        "<p style =\"text-align:center\">\n",
        "    <img src=\"http://epecora.com.br/DataFiles/BannerUFPR.png\" width=\"700\" alt=\"PPGOLD/PPGMNE Python:INTRO\"  />\n",
        "</p>\n",
        "\n",
        "\n",
        "# **Python Básico**\n",
        "\n",
        "## Strings\n",
        "\n",
        "Em Python, uma string é uma sequência de caracteres utilizada para representar texto.\n",
        "\n",
        "Strings são delimitadas por aspas simples ('...'), aspas duplas (\"...\"), ou triplas aspas ('''...''' ou \"\"\"...\"\"\").\n",
        "\n",
        "Elas são imutáveis, o que significa que, uma vez criadas, não podem ser alteradas diretamente.\n"
      ]
    },
    {
      "cell_type": "code",
      "execution_count": 2,
      "metadata": {
        "colab": {
          "base_uri": "https://localhost:8080/"
        },
        "id": "VXQSvGQFWtBb",
        "outputId": "56ef2285-e5db-460c-a199-c5a6f0845d5a"
      },
      "outputs": [
        {
          "name": "stdout",
          "output_type": "stream",
          "text": [
            "A UFPR é a melhor universidade do Paraná!\n"
          ]
        }
      ],
      "source": [
        "txt = \"A UFPR é a melhor universidade do Paraná!\"\n",
        "print(txt)"
      ]
    },
    {
      "cell_type": "code",
      "execution_count": 3,
      "metadata": {
        "colab": {
          "base_uri": "https://localhost:8080/"
        },
        "id": "v-z_Gcq41gG2",
        "outputId": "1b79f290-9aec-4e91-af6b-aa122740524f"
      },
      "outputs": [
        {
          "data": {
            "text/plain": [
              "41"
            ]
          },
          "execution_count": 3,
          "metadata": {},
          "output_type": "execute_result"
        }
      ],
      "source": [
        "# Toda String tem um tamanho definido\n",
        "len(txt)"
      ]
    },
    {
      "cell_type": "markdown",
      "metadata": {
        "id": "NnZmNj4OzEGj"
      },
      "source": [
        "### Imutabilidade da String"
      ]
    },
    {
      "cell_type": "code",
      "execution_count": 4,
      "metadata": {
        "colab": {
          "base_uri": "https://localhost:8080/"
        },
        "id": "aLnDzsDizGLg",
        "outputId": "6e7f372e-5c80-4923-e3ac-d006bc9a4e06"
      },
      "outputs": [
        {
          "name": "stdout",
          "output_type": "stream",
          "text": [
            "Erro: 'str' object does not support item assignment\n"
          ]
        }
      ],
      "source": [
        "# Definindo uma string\n",
        "s = \"Python\"\n",
        "\n",
        "# Tentando alterar o primeiro caractere\n",
        "try:\n",
        "    s[0] = \"J\"\n",
        "except TypeError as e:\n",
        "    print(f\"Erro: {e}\")"
      ]
    },
    {
      "cell_type": "code",
      "execution_count": 5,
      "metadata": {
        "colab": {
          "base_uri": "https://localhost:8080/"
        },
        "id": "Ceqd7WHRzQOr",
        "outputId": "38abbf74-1e49-4608-84db-1ce302794139"
      },
      "outputs": [
        {
          "name": "stdout",
          "output_type": "stream",
          "text": [
            "Jython\n"
          ]
        }
      ],
      "source": [
        "# Criando uma nova string com a modificação desejada\n",
        "s = \"Python\"\n",
        "new_s = \"J\" + s[1:]\n",
        "\n",
        "print(new_s)  # Resultado: 'Jython'"
      ]
    },
    {
      "cell_type": "code",
      "execution_count": 6,
      "metadata": {
        "colab": {
          "base_uri": "https://localhost:8080/"
        },
        "id": "xJkCjo_KzRw1",
        "outputId": "8df231a9-5795-4964-ae41-8f2bf13ac5f6"
      },
      "outputs": [
        {
          "name": "stdout",
          "output_type": "stream",
          "text": [
            "Jython\n"
          ]
        }
      ],
      "source": [
        "# Atribuir a modificação desejada na mesma string\n",
        "s = \"Python\"\n",
        "s = \"J\" + s[1:]\n",
        "\n",
        "print(s)  # Resultado: 'Jython'"
      ]
    },
    {
      "cell_type": "markdown",
      "metadata": {
        "id": "_Of16GdVzei4"
      },
      "source": [
        "### Manipulação de Strings"
      ]
    },
    {
      "cell_type": "code",
      "execution_count": 7,
      "metadata": {
        "colab": {
          "base_uri": "https://localhost:8080/"
        },
        "id": "64Bi68KHzdeg",
        "outputId": "e05a2d36-466b-4621-80ed-bb1f244c068d"
      },
      "outputs": [
        {
          "name": "stdout",
          "output_type": "stream",
          "text": [
            "strip(): 'Python é incrível!'\n"
          ]
        }
      ],
      "source": [
        "#Definindo uma string de exemplo\n",
        "s = \"  Python é incrível! \"\n",
        "\n",
        "# 1. Remover espaços em branco no início e no fim da string\n",
        "s_strip = s.strip()\n",
        "print(f\"strip(): '{s_strip}'\")"
      ]
    },
    {
      "cell_type": "code",
      "execution_count": 8,
      "metadata": {
        "colab": {
          "base_uri": "https://localhost:8080/"
        },
        "id": "3Ccoi1Fezncf",
        "outputId": "c337c096-c73d-4d97-c9b1-c81cebb0090a"
      },
      "outputs": [
        {
          "name": "stdout",
          "output_type": "stream",
          "text": [
            "upper(): 'PYTHON É INCRÍVEL!'\n",
            "lower(): 'python é incrível!'\n"
          ]
        }
      ],
      "source": [
        "# 2. Converter a string para maiúsculas e minúsculas\n",
        "s_upper = s_strip.upper()\n",
        "print(f\"upper(): '{s_upper}'\")\n",
        "\n",
        "s_lower = s_strip.lower()\n",
        "print(f\"lower(): '{s_lower}'\")"
      ]
    },
    {
      "cell_type": "code",
      "execution_count": 9,
      "metadata": {
        "colab": {
          "base_uri": "https://localhost:8080/"
        },
        "id": "uUCtiU1JzqZT",
        "outputId": "0c485e9a-43aa-43cd-e37f-8597173beed6"
      },
      "outputs": [
        {
          "name": "stdout",
          "output_type": "stream",
          "text": [
            "replace(): 'Python é fantástico!'\n"
          ]
        }
      ],
      "source": [
        "# 3. Substituir parte da string por outra\n",
        "s_replace = s_strip.replace(\"incrível\", \"fantástico\")\n",
        "print(f\"replace(): '{s_replace}'\")"
      ]
    },
    {
      "cell_type": "code",
      "execution_count": 10,
      "metadata": {
        "colab": {
          "base_uri": "https://localhost:8080/"
        },
        "id": "A-d3xj3SzuVf",
        "outputId": "73e7bc10-b442-44a5-e2e6-3e138505d273"
      },
      "outputs": [
        {
          "name": "stdout",
          "output_type": "stream",
          "text": [
            "startswith('Python'): True\n",
            "endswith('!'): True\n"
          ]
        }
      ],
      "source": [
        "# 4. Verificar se a string começa ou termina com uma substring específica\n",
        "starts_with = s_strip.startswith(\"Python\")\n",
        "print(f\"startswith('Python'): {starts_with}\")\n",
        "\n",
        "ends_with = s_strip.endswith(\"!\")\n",
        "print(f\"endswith('!'): {ends_with}\")"
      ]
    },
    {
      "cell_type": "code",
      "execution_count": 11,
      "metadata": {
        "colab": {
          "base_uri": "https://localhost:8080/"
        },
        "id": "9JimGG0azxb7",
        "outputId": "e429f21d-92ab-429b-f0c1-58f6433ff688"
      },
      "outputs": [
        {
          "name": "stdout",
          "output_type": "stream",
          "text": [
            "split(): ['Python', 'é', 'incrível!']\n",
            "join(): 'Python é incrível!'\n"
          ]
        }
      ],
      "source": [
        "# 5. Dividir a string em uma lista de substrings\n",
        "s_split = s_strip.split()\n",
        "print(f\"split(): {s_split}\")\n",
        "\n",
        "# 6. Juntar uma lista de strings em uma única string\n",
        "s_join = \" \".join(s_split)\n",
        "print(f\"join(): '{s_join}'\")"
      ]
    },
    {
      "cell_type": "code",
      "execution_count": 12,
      "metadata": {
        "colab": {
          "base_uri": "https://localhost:8080/"
        },
        "id": "As9yXjgvz2cc",
        "outputId": "3d42b898-d172-4539-faad-e1f25f16fde4"
      },
      "outputs": [
        {
          "name": "stdout",
          "output_type": "stream",
          "text": [
            "['Python', 'é', 'incrível!']\n"
          ]
        },
        {
          "data": {
            "text/plain": [
              "list"
            ]
          },
          "execution_count": 12,
          "metadata": {},
          "output_type": "execute_result"
        }
      ],
      "source": [
        "print(s_split)\n",
        "type(s_split)"
      ]
    },
    {
      "cell_type": "code",
      "execution_count": 13,
      "metadata": {
        "colab": {
          "base_uri": "https://localhost:8080/"
        },
        "id": "alvA8YKTz0qd",
        "outputId": "6cd452c7-8079-458f-c524-60b9f25eabf6"
      },
      "outputs": [
        {
          "name": "stdout",
          "output_type": "stream",
          "text": [
            "find('é'): 7\n",
            "count('n'): 2\n"
          ]
        }
      ],
      "source": [
        "# 7. Encontrar a posição de uma substring dentro da string\n",
        "position = s_strip.find(\"é\")\n",
        "print(f\"find('é'): {position}\")\n",
        "\n",
        "# 8. Contar o número de ocorrências de uma substring\n",
        "count = s_strip.count(\"n\")\n",
        "print(f\"count('n'): {count}\")"
      ]
    },
    {
      "cell_type": "code",
      "execution_count": 14,
      "metadata": {
        "colab": {
          "base_uri": "https://localhost:8080/"
        },
        "id": "vHW2YUhK0CGl",
        "outputId": "b9d58011-836f-4e5c-a849-c4eea411a6e1"
      },
      "outputs": [
        {
          "name": "stdout",
          "output_type": "stream",
          "text": [
            "isdigit(): False\n",
            "isdigit(): True\n"
          ]
        }
      ],
      "source": [
        "# 9. Verificar se a string contém apenas dígitos\n",
        "is_digit = s_strip.isdigit()\n",
        "print(f\"isdigit(): {is_digit}\")\n",
        "\n",
        "digit = \"12345\"\n",
        "is_digit = digit.isdigit()\n",
        "print(f\"isdigit(): {is_digit}\")"
      ]
    },
    {
      "cell_type": "code",
      "execution_count": 15,
      "metadata": {
        "colab": {
          "base_uri": "https://localhost:8080/"
        },
        "id": "w9WSkBB20K0h",
        "outputId": "333a8b8c-e528-412e-d967-a32105f9869a"
      },
      "outputs": [
        {
          "name": "stdout",
          "output_type": "stream",
          "text": [
            "f-string: 'Python é incrível! A versão atual é 3.13.1 (tags/v3.13.1:0671451, Dec  3 2024, 19:06:28) [MSC v.1942 64 bit (AMD64)].'\n"
          ]
        }
      ],
      "source": [
        "import sys\n",
        "\n",
        "# 10. Substituir variáveis em uma string usando formatação\n",
        "name = \"Python\"\n",
        "version = sys.version\n",
        "s_format = f\"{name} é incrível! A versão atual é {version}.\"\n",
        "print(f\"f-string: '{s_format}'\")"
      ]
    },
    {
      "cell_type": "markdown",
      "metadata": {
        "id": "o1HeeG4ysuSD"
      },
      "source": [
        "Também é possível realizar operações básicas com as strings"
      ]
    },
    {
      "cell_type": "code",
      "execution_count": 16,
      "metadata": {
        "colab": {
          "base_uri": "https://localhost:8080/"
        },
        "id": "5srfb7ArsuSD",
        "outputId": "d3cfab16-f9f7-4bda-db4f-afb777d0b18c"
      },
      "outputs": [
        {
          "name": "stdout",
          "output_type": "stream",
          "text": [
            "Oi, Alice!\n",
            "hahaha\n"
          ]
        }
      ],
      "source": [
        "cumprimento = \"Oi\"\n",
        "nome = \"Alice\"\n",
        "\n",
        "# Para a concatenação utilizamos o \"+\"\n",
        "mensagem = cumprimento + \", \" + nome + \"!\"\n",
        "print(mensagem)\n",
        "\n",
        "# Para a repetição utilizamos o \"*\"\n",
        "risada = \"ha\"\n",
        "print(risada * 3)"
      ]
    },
    {
      "cell_type": "markdown",
      "metadata": {
        "id": "bwfBdIyGQqSK"
      },
      "source": [
        "## Autores\n",
        "\n",
        "<a href=\"https://www.linkedin.com/in/eduardopecora/\" target=\"_blank\">Eduardo Pecora</a>\n",
        "\n",
        "<a href=\"https://www.linkedin.com/in/jo%C3%A3o-gabriel-santin-botelho-618244222/\" target=\"_blank\">João Gabriel Santin Botelho</a>\n",
        "\n",
        "\n",
        "## Log de modificações\n",
        "\n",
        "| Data | Versão | Modificado por | Descrição |\n",
        "| ----------------- | ------- | ---------- | ---------------------------------- |\n",
        "| 29-08-2024       | 1.0     | Eduardo Pecora & João Gabriel| Inicial               |\n",
        "\n",
        "<hr>\n",
        "\n",
        "## <h3 align=\"center\"> (c) Liga Data Science/ UFPR 2024. All rights reserved. <h3/>"
      ]
    }
  ],
  "metadata": {
    "colab": {
      "include_colab_link": true,
      "provenance": []
    },
    "kernelspec": {
      "display_name": "venv",
      "language": "python",
      "name": "python3"
    },
    "language_info": {
      "codemirror_mode": {
        "name": "ipython",
        "version": 3
      },
      "file_extension": ".py",
      "mimetype": "text/x-python",
      "name": "python",
      "nbconvert_exporter": "python",
      "pygments_lexer": "ipython3",
      "version": "3.13.1"
    }
  },
  "nbformat": 4,
  "nbformat_minor": 0
}
