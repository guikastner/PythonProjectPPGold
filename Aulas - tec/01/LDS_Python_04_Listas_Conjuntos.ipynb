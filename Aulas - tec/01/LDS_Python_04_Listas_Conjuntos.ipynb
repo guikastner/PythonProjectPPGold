{
  "cells": [
    {
      "cell_type": "markdown",
      "metadata": {
        "id": "view-in-github",
        "colab_type": "text"
      },
      "source": [
        "<a href=\"https://colab.research.google.com/github/EduPekUfpr/Python/blob/main/LDS_Python_04_Listas_Conjuntos.ipynb\" target=\"_parent\"><img src=\"https://colab.research.google.com/assets/colab-badge.svg\" alt=\"Open In Colab\"/></a>"
      ]
    },
    {
      "cell_type": "markdown",
      "metadata": {
        "id": "kxQ0h6rEsuR9"
      },
      "source": [
        "<p style =\"text-align:center\">\n",
        "    <img src=\"http://epecora.com.br/DataFiles/BannerUFPR.png\" width=\"700\" alt=\"PPGOLD/PPGMNE Python:INTRO\"  />\n",
        "</p>\n",
        "\n",
        "\n",
        "# **Python Básico**\n",
        "\n",
        "## Listas\n",
        "\n",
        "Em Python, uma lista é uma coleção ordenada e mutável de elementos, que podem ser de qualquer tipo, como números, strings, outras listas, objetos, etc. As listas são delimitadas por colchetes ([   ]) e os elementos são separados por vírgulas.\n"
      ]
    },
    {
      "cell_type": "code",
      "execution_count": null,
      "metadata": {
        "colab": {
          "base_uri": "https://localhost:8080/"
        },
        "id": "oYyAPEjhsuSE",
        "outputId": "338b7b1d-347d-419d-f394-895cd1c56ed4"
      },
      "outputs": [
        {
          "output_type": "stream",
          "name": "stdout",
          "text": [
            "3\n",
            "maçã\n",
            "laranja\n"
          ]
        }
      ],
      "source": [
        "# Criando uma lista de frutas\n",
        "frutas = [\"maçã\", \"banana\", \"laranja\"]\n",
        "\n",
        "# Tamanho da Lista\n",
        "print(len(frutas))\n",
        "\n",
        "# Acessando um elemento da lista\n",
        "print(frutas[0])\n",
        "\n",
        "# Acessando ultimo elemento da lista\n",
        "print(frutas[-1])"
      ]
    },
    {
      "cell_type": "code",
      "execution_count": null,
      "metadata": {
        "colab": {
          "base_uri": "https://localhost:8080/"
        },
        "id": "HAhZMJlQsuSE",
        "outputId": "aff3f835-9205-4551-c8cf-f1dba581fbb3"
      },
      "outputs": [
        {
          "output_type": "execute_result",
          "data": {
            "text/plain": [
              "['banana', 'laranja', 'maçã']"
            ]
          },
          "metadata": {},
          "execution_count": 102
        }
      ],
      "source": [
        "# Ordenando a lista na ordem crescente\n",
        "frutas.sort()\n",
        "\n",
        "frutas"
      ]
    },
    {
      "cell_type": "code",
      "execution_count": null,
      "metadata": {
        "colab": {
          "base_uri": "https://localhost:8080/"
        },
        "id": "OVDUOuxgsuSE",
        "outputId": "1ba3fd99-90b3-499b-bd20-23808c5b5330"
      },
      "outputs": [
        {
          "output_type": "execute_result",
          "data": {
            "text/plain": [
              "['maçã', 'laranja', 'banana']"
            ]
          },
          "metadata": {},
          "execution_count": 103
        }
      ],
      "source": [
        "# Ordenando a lista na ordem decrescente\n",
        "frutas.reverse()\n",
        "\n",
        "frutas"
      ]
    },
    {
      "cell_type": "code",
      "execution_count": null,
      "metadata": {
        "colab": {
          "base_uri": "https://localhost:8080/"
        },
        "id": "utZaOhV0suSE",
        "outputId": "39f735c3-c8a2-46b1-f28f-65845a906f4a"
      },
      "outputs": [
        {
          "output_type": "stream",
          "name": "stdout",
          "text": [
            "uva\n"
          ]
        }
      ],
      "source": [
        "# Modificando um elemento da lista\n",
        "frutas[0] = \"uva\"\n",
        "\n",
        "print(frutas[0])"
      ]
    },
    {
      "cell_type": "code",
      "execution_count": null,
      "metadata": {
        "colab": {
          "base_uri": "https://localhost:8080/"
        },
        "id": "QRovs_aGsuSK",
        "outputId": "6f6ea05b-f4fa-4a8c-a3ec-8834493fcba6"
      },
      "outputs": [
        {
          "output_type": "stream",
          "name": "stdout",
          "text": [
            "['uva', 'laranja', 'banana', 'manga']\n"
          ]
        }
      ],
      "source": [
        "# Adicionando um novo elemento à lista\n",
        "frutas.append(\"manga\")\n",
        "\n",
        "print(frutas)"
      ]
    },
    {
      "cell_type": "code",
      "execution_count": null,
      "metadata": {
        "colab": {
          "base_uri": "https://localhost:8080/"
        },
        "id": "Cmv2BS5msuSK",
        "outputId": "f7666c75-0c97-4960-8a38-da07830ddc7a"
      },
      "outputs": [
        {
          "output_type": "stream",
          "name": "stdout",
          "text": [
            "['uva', 'banana', 'manga']\n"
          ]
        }
      ],
      "source": [
        "# Removendo um elemento da lista a partir do elemento\n",
        "frutas.remove(\"laranja\")\n",
        "\n",
        "print(frutas)"
      ]
    },
    {
      "cell_type": "code",
      "execution_count": null,
      "metadata": {
        "colab": {
          "base_uri": "https://localhost:8080/"
        },
        "id": "ODjjQR3ysuSK",
        "outputId": "1ac523b1-0d48-4314-9dd8-dd8ff87710c4"
      },
      "outputs": [
        {
          "output_type": "stream",
          "name": "stdout",
          "text": [
            "['banana', 'manga']\n"
          ]
        }
      ],
      "source": [
        "# Removendo um elemento da lista a partir do indice\n",
        "frutas.pop(0)\n",
        "\n",
        "print(frutas)"
      ]
    },
    {
      "cell_type": "code",
      "source": [
        "# Similar às strings, você pode acessar sublistas usando a sintaxe de fatiamento.\n",
        "\n",
        "frutas.append(\"maçã\")\n",
        "frutas.append(\"uva\")\n",
        "frutas.append(\"laranja\")\n",
        "frutas.append(\"caju\")\n",
        "frutas.append(\"goiaba\")\n",
        "\n",
        "print(frutas)\n",
        "\n",
        "frutas = frutas[1:3] # fatia da lista\n",
        "\n",
        "print(frutas)"
      ],
      "metadata": {
        "colab": {
          "base_uri": "https://localhost:8080/"
        },
        "id": "vU7BzGZb6dVt",
        "outputId": "1454b4d0-4711-4f9c-b430-066f823a0e22"
      },
      "execution_count": null,
      "outputs": [
        {
          "output_type": "stream",
          "name": "stdout",
          "text": [
            "['banana', 'manga', 'maçã', 'uva', 'laranja', 'caju', 'goiaba']\n",
            "['manga', 'maçã']\n"
          ]
        }
      ]
    },
    {
      "cell_type": "code",
      "execution_count": null,
      "metadata": {
        "colab": {
          "base_uri": "https://localhost:8080/"
        },
        "id": "xE286qFtsuSK",
        "outputId": "461d1db2-45de-4cc9-ddf8-91b6bf1a768d"
      },
      "outputs": [
        {
          "output_type": "stream",
          "name": "stdout",
          "text": [
            "[1, 2, 3]\n",
            "[1.1, 2.2, 3.3]\n",
            "['um', 'dois', 'três']\n",
            "[True, False, True]\n",
            "[{1, 2}, {2, 3}, {3, 4}]\n",
            "[(1, 2), (2, 3), (3, 4)]\n",
            "[{'1': 1, '2': 2}, {'2': 2, '3': 3}, {'3': 3, '4': 4}]\n",
            "(1, '2', True)\n",
            "[[1, 2, 3], [1.1, 2.2, 3.3], ['um', 'dois', 'três'], [True, False, True], [{1, 2}, {2, 3}, {3, 4}], [(1, 2), (2, 3), (3, 4)], [{'1': 1, '2': 2}, {'2': 2, '3': 3}, {'3': 3, '4': 4}], (1, '2', True)]\n"
          ]
        }
      ],
      "source": [
        "# Listas podem conter diferentes tipos de objetos\n",
        "\n",
        "lista1 = [1,2,3] #lista de inteiros\n",
        "lista2 = [1.1,2.2,3.3] #lista de floats\n",
        "lista3 = ['um','dois','três'] #lista de strings\n",
        "lista4 = [True,False,True] #lista de booleanos\n",
        "lista5 = [{1,2},{2,3},{3,4}] #lista de conjuntos\n",
        "lista6 = [(1,2),(2,3),(3,4)] #lista de tuplas\n",
        "lista7 = [{'1':1,'2':2},{'2':2,'3':3},{'3':3,'4':4}] #lista de dicionários\n",
        "lista8 = (1,'2',True) #lista de diferentes tipos\n",
        "lista9 = [lista1,lista2,lista3,lista4,lista5,lista6,lista7,lista8] #lista de listas\n",
        "\n",
        "print(lista1)\n",
        "print(lista2)\n",
        "print(lista3)\n",
        "print(lista4)\n",
        "print(lista5)\n",
        "print(lista6)\n",
        "print(lista7)\n",
        "print(lista8)\n",
        "print(lista9)"
      ]
    },
    {
      "cell_type": "markdown",
      "source": [
        "## Criando listas vazias"
      ],
      "metadata": {
        "id": "3gqQSCjA4Hqv"
      }
    },
    {
      "cell_type": "code",
      "source": [
        "#criando de forma explícita\n",
        "l1 = list()\n",
        "print(type(l1))"
      ],
      "metadata": {
        "colab": {
          "base_uri": "https://localhost:8080/"
        },
        "id": "if5UYQGp4F94",
        "outputId": "5037cf35-d25c-4cd8-f93a-2d0b2dc17488"
      },
      "execution_count": null,
      "outputs": [
        {
          "output_type": "stream",
          "name": "stdout",
          "text": [
            "<class 'list'>\n"
          ]
        }
      ]
    },
    {
      "cell_type": "code",
      "source": [
        "#criando de forma implícita\n",
        "l2 = []\n",
        "print(type(l2))"
      ],
      "metadata": {
        "colab": {
          "base_uri": "https://localhost:8080/"
        },
        "id": "0gZxC2v_4N5l",
        "outputId": "27c746da-85e9-4c37-9f6a-5f3e93ecf2e5"
      },
      "execution_count": null,
      "outputs": [
        {
          "output_type": "stream",
          "name": "stdout",
          "text": [
            "<class 'list'>\n"
          ]
        }
      ]
    },
    {
      "cell_type": "code",
      "source": [
        "# Adiciono um elemento em l1 mas não em l2\n",
        "l1.append(\"UFPR\")\n",
        "l1"
      ],
      "metadata": {
        "colab": {
          "base_uri": "https://localhost:8080/"
        },
        "id": "054QMILJ4UTG",
        "outputId": "094e70bb-2a84-4291-9871-6e90c5caeb55"
      },
      "execution_count": null,
      "outputs": [
        {
          "output_type": "execute_result",
          "data": {
            "text/plain": [
              "['UFPR']"
            ]
          },
          "metadata": {},
          "execution_count": 92
        }
      ]
    },
    {
      "cell_type": "code",
      "source": [
        "# l1 e l2 são diferentes\n",
        "print(l1)\n",
        "print(l2)"
      ],
      "metadata": {
        "colab": {
          "base_uri": "https://localhost:8080/"
        },
        "id": "_hyusqyp4XbM",
        "outputId": "633c5090-9754-4017-c622-b9acce8e1cd8"
      },
      "execution_count": null,
      "outputs": [
        {
          "output_type": "stream",
          "name": "stdout",
          "text": [
            "['UFPR']\n",
            "[]\n"
          ]
        }
      ]
    },
    {
      "cell_type": "code",
      "source": [
        "# Agora são iguais\n",
        "l2 = l1\n",
        "print(l1)\n",
        "print(l2)"
      ],
      "metadata": {
        "colab": {
          "base_uri": "https://localhost:8080/"
        },
        "id": "V6E0F7WQ5-iy",
        "outputId": "6243defe-46c1-4a27-94de-b5dd9db17e55"
      },
      "execution_count": null,
      "outputs": [
        {
          "output_type": "stream",
          "name": "stdout",
          "text": [
            "['UFPR']\n",
            "['UFPR']\n"
          ]
        }
      ]
    },
    {
      "cell_type": "markdown",
      "metadata": {
        "id": "deQG8LSNsuSK"
      },
      "source": [
        "-----\n",
        "-----\n",
        "## Conjuntos\n",
        "\n",
        "Em Python, um conjunto é uma coleção de elementos únicos e desordenados. Ele é implementado pela classe set. Os conjuntos são úteis quando você deseja armazenar uma coleção de itens sem duplicatas e realizar operações de conjunto como união, interseção e diferença.\n"
      ]
    },
    {
      "cell_type": "code",
      "execution_count": null,
      "metadata": {
        "colab": {
          "base_uri": "https://localhost:8080/"
        },
        "id": "J4WyuC7psuSK",
        "outputId": "67a9c53d-9a30-4a10-a43c-cd6f5816d0bb"
      },
      "outputs": [
        {
          "output_type": "stream",
          "name": "stdout",
          "text": [
            "{1, 2, 3, 4, 5, 6, 7}\n",
            "{2, 3, 5, 7, 11, 13}\n"
          ]
        }
      ],
      "source": [
        "#criando um conjunto\n",
        "inteiros = {1,2,3,4,4,4,4,5,6,7}\n",
        "\n",
        "# Criando um conjunto usando a função set()\n",
        "primos = set([2,2,2,3,5,7,11,13])\n",
        "\n",
        "print(inteiros)\n",
        "print(primos)"
      ]
    },
    {
      "cell_type": "markdown",
      "metadata": {
        "id": "bntRbOEhsuSL"
      },
      "source": [
        "As operações de adição e retirada de objetos das listas funcionam para os conjuntos. Além disso, conjuntos também possuem métodos específicos a eles como união, intersecção e diferença."
      ]
    },
    {
      "cell_type": "code",
      "execution_count": null,
      "metadata": {
        "colab": {
          "base_uri": "https://localhost:8080/"
        },
        "id": "b9SQiba3suSL",
        "outputId": "b5630479-65c4-49d9-b5d2-cbfab7e2bc26"
      },
      "outputs": [
        {
          "output_type": "stream",
          "name": "stdout",
          "text": [
            "{1.1, 2.2, 3.3}\n"
          ]
        }
      ],
      "source": [
        "#criando outro conjunto\n",
        "floats = {1.1,2.2,3.3}\n",
        "\n",
        "print(floats)"
      ]
    },
    {
      "cell_type": "code",
      "execution_count": null,
      "metadata": {
        "colab": {
          "base_uri": "https://localhost:8080/"
        },
        "id": "FQc3aXWUsuSL",
        "outputId": "628492d8-b925-4fc8-f332-76d9c6e043b3"
      },
      "outputs": [
        {
          "output_type": "stream",
          "name": "stdout",
          "text": [
            "{1, 2, 3, 4, 5, 6, 7, 1.1, 2.2, 3.3}\n"
          ]
        }
      ],
      "source": [
        "#união entre os conjuntos\n",
        "print(inteiros.union(floats))"
      ]
    },
    {
      "cell_type": "code",
      "execution_count": null,
      "metadata": {
        "colab": {
          "base_uri": "https://localhost:8080/"
        },
        "id": "Z45zMOLIsuSL",
        "outputId": "7a8f7fd4-77cd-4d19-e3b9-442fe4190d76"
      },
      "outputs": [
        {
          "output_type": "stream",
          "name": "stdout",
          "text": [
            "set()\n"
          ]
        }
      ],
      "source": [
        "#intersecção entre os conjuntos\n",
        "print(inteiros.intersection(floats))"
      ]
    },
    {
      "cell_type": "code",
      "execution_count": null,
      "metadata": {
        "colab": {
          "base_uri": "https://localhost:8080/"
        },
        "id": "TJd8L4FpsuSL",
        "outputId": "57513cd8-1468-4aec-acc5-1d2f5ee28966"
      },
      "outputs": [
        {
          "output_type": "stream",
          "name": "stdout",
          "text": [
            "{1, 2, 3, 4, 5, 6, 7}\n",
            "{1.1, 2.2, 3.3}\n"
          ]
        }
      ],
      "source": [
        "#diferença entre os conjuntos\n",
        "print(inteiros.difference(floats))\n",
        "print(floats.difference(inteiros))"
      ]
    },
    {
      "cell_type": "code",
      "source": [
        "conjuntoA = {1, 2, 3}\n",
        "conjuntoB = {3, 4, 5}\n",
        "\n",
        "uniao = conjuntoA | conjuntoB  # União\n",
        "interseccao = conjuntoA & conjuntoB  # Interseção\n",
        "diferenca = conjuntoA - conjuntoB  # Diferença\n",
        "\n",
        "print(uniao)\n",
        "print(interseccao)\n",
        "print(diferenca)"
      ],
      "metadata": {
        "colab": {
          "base_uri": "https://localhost:8080/"
        },
        "id": "UnLMGTWw9pk5",
        "outputId": "20bb2926-34e7-42e1-ba57-b0e18dbfcad1"
      },
      "execution_count": null,
      "outputs": [
        {
          "output_type": "stream",
          "name": "stdout",
          "text": [
            "{1, 2, 3, 4, 5}\n",
            "{3}\n",
            "{1, 2}\n"
          ]
        }
      ]
    },
    {
      "cell_type": "markdown",
      "source": [
        "E se usar a soma (+) dos conjuntos? <font color='green'>(vai dar erro!)</font>"
      ],
      "metadata": {
        "id": "eZrZ3jZF-jaS"
      }
    },
    {
      "cell_type": "code",
      "source": [
        "try:\n",
        "  uniao = conjuntoA + conjuntoB  # União\n",
        "  print(uniao)\n",
        "except TypeError as e:\n",
        "  print(f\"Erro: {e}\")\n"
      ],
      "metadata": {
        "colab": {
          "base_uri": "https://localhost:8080/"
        },
        "id": "BHY5gHaN9zzi",
        "outputId": "09699559-2700-4f17-f3c6-afb42815bdf0"
      },
      "execution_count": null,
      "outputs": [
        {
          "output_type": "stream",
          "name": "stdout",
          "text": [
            "Erro: unsupported operand type(s) for +: 'set' and 'set'\n"
          ]
        }
      ]
    },
    {
      "cell_type": "markdown",
      "metadata": {
        "id": "Q0CxNcBrsuSL"
      },
      "source": [
        "Tipos de variáveis como escalares, booleanas e strings podem ser inseridas em conjuntos, e estruturas como tuplas também. Porém, não é possível construir conjuntos de conjuntos, listas e dicionários."
      ]
    },
    {
      "cell_type": "code",
      "execution_count": null,
      "metadata": {
        "id": "BxoZ6dftsuSN",
        "outputId": "b93e2c3f-83b8-4583-d977-4c1acc5941d0"
      },
      "outputs": [
        {
          "name": "stdout",
          "output_type": "stream",
          "text": [
            "1\n",
            "3\n",
            "5\n",
            "7\n",
            "9\n"
          ]
        }
      ],
      "source": [
        "# Exemplo de utilização do continue\n",
        "for i in range(10):\n",
        "    if i % 2 == 0:\n",
        "        continue\n",
        "    print(i)"
      ]
    },
    {
      "cell_type": "markdown",
      "source": [
        "## Autores\n",
        "\n",
        "<a href=\"https://www.linkedin.com/in/eduardopecora/\" target=\"_blank\">Eduardo Pecora</a>\n",
        "\n",
        "<a href=\"https://www.linkedin.com/in/jo%C3%A3o-gabriel-santin-botelho-618244222/\" target=\"_blank\">João Gabriel Santin Botelho</a>\n",
        "\n",
        "\n",
        "## Log de modificações\n",
        "\n",
        "| Data | Versão | Modificado por | Descrição |\n",
        "| ----------------- | ------- | ---------- | ---------------------------------- |\n",
        "| 29-08-2024       | 1.0     | Eduardo Pecora & João Gabriel| Inicial               |\n",
        "\n",
        "<hr>\n",
        "\n",
        "## <h3 align=\"center\"> (c) Liga Data Science/ UFPR 2024. All rights reserved. <h3/>"
      ],
      "metadata": {
        "id": "bwfBdIyGQqSK"
      }
    }
  ],
  "metadata": {
    "kernelspec": {
      "display_name": "Python 3 (ipykernel)",
      "language": "python",
      "name": "python3"
    },
    "language_info": {
      "codemirror_mode": {
        "name": "ipython",
        "version": 3
      },
      "file_extension": ".py",
      "mimetype": "text/x-python",
      "name": "python",
      "nbconvert_exporter": "python",
      "pygments_lexer": "ipython3",
      "version": "3.10.14"
    },
    "colab": {
      "provenance": [],
      "include_colab_link": true
    }
  },
  "nbformat": 4,
  "nbformat_minor": 0
}