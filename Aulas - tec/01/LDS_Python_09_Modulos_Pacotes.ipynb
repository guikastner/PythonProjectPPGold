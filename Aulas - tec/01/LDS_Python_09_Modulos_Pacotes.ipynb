{
  "cells": [
    {
      "cell_type": "markdown",
      "metadata": {
        "colab_type": "text",
        "id": "view-in-github"
      },
      "source": [
        "<a href=\"https://colab.research.google.com/github/EduPekUfpr/Python/blob/main/LDS_Python_09_Modulos_Pacotes.ipynb\" target=\"_parent\"><img src=\"https://colab.research.google.com/assets/colab-badge.svg\" alt=\"Open In Colab\"/></a>"
      ]
    },
    {
      "cell_type": "markdown",
      "metadata": {
        "id": "kxQ0h6rEsuR9"
      },
      "source": [
        "<p style =\"text-align:center\">\n",
        "    <img src=\"http://epecora.com.br/DataFiles/BannerUFPR.png\" width=\"700\" alt=\"PPGOLD/PPGMNE Python:INTRO\"  />\n",
        "</p>\n",
        "\n",
        "\n",
        "# **Python Básico**\n",
        "\n",
        "<a id=\"modules\"></a>\n",
        "# **Módulos e Pacotes**\n",
        "\n",
        "Os módulos e pacodes podem ser considerados os principais responsáveis pela grande popularidade que Python possui atualmente. Os pacotes e os módulos dentros dos pacotes permitem criação, compartilhamento e utilização de funções e métodos não originárias do Python.\n",
        "## Módulos\n",
        "\n",
        "Um módulo em Python é um arquivo que contém definições e implementações de funções, classes, variáveis, e pode também incluir código executável. Não entraremos aqui na criação de módulos próprios, mas na utilização de módulos padrão do Python.\n",
        "\n",
        "Módulos são estruturados em um único arquivo ```.py```\n",
        "\n",
        "Os príncipais módulos do Python são:\n",
        "- math: fornece funções matemáticas como seno, cosseno, logaritmos e operações aritméticas;\n",
        "- datetime: lida com datas e horas, permitindo manipulações como adicionar ou subtrair tempo, formatar datas, etc;\n",
        "- os: interage com o sistema operacional, permitindo manipulações de arquivos, diretórios, e variáveis de ambiente;\n",
        "- sys: fornece acesso a algumas variáveis e funções do interpretador Python, como argumentos de linha de comando e manipulação de módulos;\n",
        "- random: gera números aleatórios e executa outras operações aleatórias, como escolher itens aleatórios de uma lista;\n",
        "- time: trabalha com manipulações relacionadas ao tempo, como pausas na execução e obtenção de timestamps.\n",
        "\n",
        "Para usar um módulo é necessária a seguinte sintaxe:\n",
        "\n",
        "- `import` nome_do_modulo;\n",
        "- `import` nome_do_modulo `as` novo_nome;"
      ]
    },
    {
      "cell_type": "code",
      "execution_count": null,
      "metadata": {
        "colab": {
          "base_uri": "https://localhost:8080/"
        },
        "id": "XCT2FZ1qsuSO",
        "outputId": "9282795a-488c-4fb3-a475-c8e5a07b7c03"
      },
      "outputs": [
        {
          "name": "stdout",
          "output_type": "stream",
          "text": [
            "3.141592653589793\n",
            "2.718281828459045\n",
            "1.0\n",
            "2.718281828459045\n",
            "1.7320508075688772\n"
          ]
        }
      ],
      "source": [
        "import math\n",
        "\n",
        "#algumas funções do módulo math\n",
        "print(math.pi)\n",
        "print(math.e)\n",
        "print(math.log(math.e))\n",
        "print(math.exp(1))\n",
        "print(math.sqrt(3))"
      ]
    },
    {
      "cell_type": "code",
      "execution_count": 2,
      "metadata": {
        "colab": {
          "base_uri": "https://localhost:8080/"
        },
        "id": "yoIO7Ec7suSO",
        "outputId": "278f4c6f-9151-42f1-be2b-c9006f73f222"
      },
      "outputs": [
        {
          "name": "stdout",
          "output_type": "stream",
          "text": [
            "2025-03-13 21:36:06.867521\n"
          ]
        }
      ],
      "source": [
        "import datetime\n",
        "\n",
        "agora = datetime.datetime.now()\n",
        "print(agora)"
      ]
    },
    {
      "cell_type": "code",
      "execution_count": 1,
      "metadata": {
        "id": "CAa3hwrtsuSO"
      },
      "outputs": [
        {
          "name": "stdout",
          "output_type": "stream",
          "text": [
            "\"e:\\UFPR\\PythonProjectPPGold\\01 - aula\"\n"
          ]
        }
      ],
      "source": [
        "import os\n",
        "\n",
        "diretorio = os.getcwd()\n",
        "diretorio = '\"'+ diretorio + '\"'\n",
        "print(diretorio)"
      ]
    },
    {
      "cell_type": "code",
      "execution_count": 1,
      "metadata": {
        "colab": {
          "base_uri": "https://localhost:8080/"
        },
        "id": "83pd6jBSsuSO",
        "outputId": "3a9f0dd5-f516-4528-aa5e-c0c7bed1ba0b"
      },
      "outputs": [
        {
          "name": "stdout",
          "output_type": "stream",
          "text": [
            "3.13.1 (tags/v3.13.1:0671451, Dec  3 2024, 19:06:28) [MSC v.1942 64 bit (AMD64)]\n"
          ]
        }
      ],
      "source": [
        "import sys\n",
        "\n",
        "print(sys.version)  #Versão do Python em uso\n",
        "#print(sys.argv) #Lista de argumentos passados na linha de comando"
      ]
    },
    {
      "cell_type": "code",
      "execution_count": null,
      "metadata": {
        "colab": {
          "base_uri": "https://localhost:8080/"
        },
        "id": "As-cf3z6suSO",
        "outputId": "97a94932-ada9-42d8-aca6-47f9cc3ebdef"
      },
      "outputs": [
        {
          "name": "stdout",
          "output_type": "stream",
          "text": [
            "7\n",
            "7\n",
            "1\n",
            "5\n",
            "9\n"
          ]
        }
      ],
      "source": [
        "import random\n",
        "\n",
        "random.seed(0) #Permite repetibilidade\n",
        "\n",
        "for i in range(5):\n",
        "    print(random.randint(1, 10))  #Um número inteiro aleatório entre 1 e 10"
      ]
    },
    {
      "cell_type": "code",
      "execution_count": 4,
      "metadata": {
        "colab": {
          "base_uri": "https://localhost:8080/"
        },
        "id": "BtZQq-K9suSO",
        "outputId": "6c040469-1d90-4128-9f00-9f362516359c"
      },
      "outputs": [
        {
          "name": "stdout",
          "output_type": "stream",
          "text": [
            "1741914930.5013773\n",
            "2.0003976821899414\n"
          ]
        }
      ],
      "source": [
        "import time\n",
        "\n",
        "t = time.time()\n",
        "print(t)  #Timestamp atual\n",
        "time.sleep(2)  # Pausa a execução por 2 segundos\n",
        "print(time.time() - t) #Timestamp atual menos o inicial"
      ]
    },
    {
      "cell_type": "code",
      "execution_count": 5,
      "metadata": {
        "colab": {
          "base_uri": "https://localhost:8080/"
        },
        "id": "a9x3-ZHZsuSP",
        "outputId": "58edb902-a92c-4fc2-e06d-91e34dbc3506"
      },
      "outputs": [
        {
          "ename": "NameError",
          "evalue": "name 'fibonacci_recursao' is not defined",
          "output_type": "error",
          "traceback": [
            "\u001b[31m---------------------------------------------------------------------------\u001b[39m",
            "\u001b[31mNameError\u001b[39m                                 Traceback (most recent call last)",
            "\u001b[36mCell\u001b[39m\u001b[36m \u001b[39m\u001b[32mIn[5]\u001b[39m\u001b[32m, line 4\u001b[39m\n\u001b[32m      1\u001b[39m \u001b[38;5;66;03m#Exemplo do uso do módulo time para comparar funções\u001b[39;00m\n\u001b[32m      3\u001b[39m t = time.time()\n\u001b[32m----> \u001b[39m\u001b[32m4\u001b[39m \u001b[43mfibonacci_recursao\u001b[49m(\u001b[32m35\u001b[39m)\n\u001b[32m      5\u001b[39m \u001b[38;5;28mprint\u001b[39m(\u001b[33mf\u001b[39m\u001b[33m\"\u001b[39m\u001b[33mTempo de execução da função recursiva: \u001b[39m\u001b[38;5;132;01m{\u001b[39;00mtime.time()\u001b[38;5;250m \u001b[39m-\u001b[38;5;250m \u001b[39mt\u001b[38;5;132;01m}\u001b[39;00m\u001b[33ms\u001b[39m\u001b[33m\"\u001b[39m)\n\u001b[32m      7\u001b[39m t = time.time()\n",
            "\u001b[31mNameError\u001b[39m: name 'fibonacci_recursao' is not defined"
          ]
        }
      ],
      "source": [
        "#Exemplo do uso do módulo time para comparar funções\n",
        "\n",
        "t = time.time()\n",
        "fibonacci_recursao(35)\n",
        "print(f\"Tempo de execução da função recursiva: {time.time() - t}s\")\n",
        "\n",
        "t = time.time()\n",
        "fibonacci_sem_recursao(35)\n",
        "print(f\"Tempo de execução da função não recursiva: {time.time() - t}s\")"
      ]
    },
    {
      "cell_type": "markdown",
      "metadata": {
        "id": "SIKy6VbWsuSP"
      },
      "source": [
        "## Pacotes\n",
        "\n",
        "Pacotes em Python são coleções de módulos que oferecem funcionalidades específicas e estendidas, que vão além do que está disponível na biblioteca padrão do Python. Eles podem ser instalados usando o gerenciador de pacotes `pip` e são amplamente utilizados para adicionar capacidades específicas aos projetos, como análise de dados, aprendizado de máquina, desenvolvimento web, entre outros.\n",
        "\n",
        "Os principais pacotes do Python que veremos são:\n",
        "- NumPy: permite a manipulação e cálculos de arrays e matrizes multidimensionais, possuindo também funções matemáticas avançadas, o tornando fundamental para o trabalho científico em Python;\n",
        "- Pandas: permite a manipulação e análise de dados, fornecendo estruturas de dados como DataFrames, que facilitam o trabalho com dados tabulares, como tabelas do Excel ou bancos de dados;\n",
        "- Matplotlib/Seaborn: permitem a criação de gráficos e a visualizações de dados, essenciais na criação de gráficos de linhas, barras, dispersão, histogramas, entre outros;\n",
        "- Scikit-learn: facilita a aplicação do aprendizado de máquina, fornecendo ferramentas para classificação, regressão, clustering, e outras tarefas de aprendizado de máquina.\n",
        "\n",
        "Quando o Python é instalado sem nenhuma distribuição como a Anaconda, esses pacotes não vem instalados. Logo, antes que eles possam ser importados e utilizado é necessária a instalação dos mesmos. A instalação pode ser feita da seguinte forma:\n",
        "\n",
        "- `pip install` nome_do_pacote. Para instalar pacotes utilizando o command shell;\n",
        "- `!pip install` nome_do_pacote. Para instalar pacotes dentro de um notebook."
      ]
    },
    {
      "cell_type": "code",
      "execution_count": null,
      "metadata": {
        "id": "fYRfOiWwsuSQ"
      },
      "outputs": [],
      "source": [
        "#!pip install numpy"
      ]
    },
    {
      "cell_type": "code",
      "execution_count": 6,
      "metadata": {
        "colab": {
          "base_uri": "https://localhost:8080/"
        },
        "id": "Q7xuhDNbsuSR",
        "outputId": "bfe2e3be-d1cd-43ba-ef73-89366c36512d"
      },
      "outputs": [
        {
          "name": "stdout",
          "output_type": "stream",
          "text": [
            "[2 4 6]\n",
            "[5 7 9]\n",
            "[ 4 10 18]\n",
            "[[1 2 3]\n",
            " [4 5 6]]\n",
            "(2, 3)\n",
            "[[1 4]\n",
            " [2 5]\n",
            " [3 6]]\n",
            "(3, 2)\n"
          ]
        }
      ],
      "source": [
        "import numpy as np\n",
        "\n",
        "a = np.array([1, 2, 3])\n",
        "b = np.array([4, 5, 6])\n",
        "\n",
        "print(a * 2) #multiplicação elemento a elemento com um escalar\n",
        "print(a + b) #soma elemento a elemento com um outro array\n",
        "print(a * b) #multiplicação elemento a elemento com um outro array\n",
        "\n",
        "c = np.array([a,b]) #array multidimensional\n",
        "\n",
        "print(c)\n",
        "print(np.shape(c)) #dimensões do array\n",
        "print(c.T) #transposição do array\n",
        "print(np.shape(c.T))"
      ]
    },
    {
      "cell_type": "code",
      "execution_count": 7,
      "metadata": {
        "colab": {
          "base_uri": "https://localhost:8080/",
          "height": 143
        },
        "id": "_9oTGT_dsuSR",
        "outputId": "1c015c79-71a8-451d-b071-e2fc0811bcd1"
      },
      "outputs": [
        {
          "data": {
            "text/html": [
              "<div>\n",
              "<style scoped>\n",
              "    .dataframe tbody tr th:only-of-type {\n",
              "        vertical-align: middle;\n",
              "    }\n",
              "\n",
              "    .dataframe tbody tr th {\n",
              "        vertical-align: top;\n",
              "    }\n",
              "\n",
              "    .dataframe thead th {\n",
              "        text-align: right;\n",
              "    }\n",
              "</style>\n",
              "<table border=\"1\" class=\"dataframe\">\n",
              "  <thead>\n",
              "    <tr style=\"text-align: right;\">\n",
              "      <th></th>\n",
              "      <th>Nome</th>\n",
              "      <th>Idade</th>\n",
              "    </tr>\n",
              "  </thead>\n",
              "  <tbody>\n",
              "    <tr>\n",
              "      <th>0</th>\n",
              "      <td>Ana</td>\n",
              "      <td>23</td>\n",
              "    </tr>\n",
              "    <tr>\n",
              "      <th>1</th>\n",
              "      <td>Bruno</td>\n",
              "      <td>35</td>\n",
              "    </tr>\n",
              "    <tr>\n",
              "      <th>2</th>\n",
              "      <td>Carlos</td>\n",
              "      <td>45</td>\n",
              "    </tr>\n",
              "  </tbody>\n",
              "</table>\n",
              "</div>"
            ],
            "text/plain": [
              "     Nome  Idade\n",
              "0     Ana     23\n",
              "1   Bruno     35\n",
              "2  Carlos     45"
            ]
          },
          "metadata": {},
          "output_type": "display_data"
        }
      ],
      "source": [
        "import pandas as pd\n",
        "\n",
        "dados = {'Nome': ['Ana', 'Bruno', 'Carlos'], 'Idade': [23, 35, 45]} #cria um dicionário\n",
        "\n",
        "df = pd.DataFrame(dados) #transforma o dicionário em dataframe\n",
        "\n",
        "display(df) #mostra o dataframe"
      ]
    },
    {
      "cell_type": "code",
      "execution_count": 8,
      "metadata": {
        "colab": {
          "base_uri": "https://localhost:8080/",
          "height": 843
        },
        "id": "1inWcgoUsuSR",
        "outputId": "4861f300-006a-4632-c167-7a99431ae42d"
      },
      "outputs": [
        {
          "data": {
            "image/png": "[encoded data removed]",
            "text/plain": [
              "<Figure size 640x480 with 1 Axes>"
            ]
          },
          "metadata": {},
          "output_type": "display_data"
        },
        {
          "data": {
            "image/png": "[encoded data removed]",
            "text/plain": [
              "<Figure size 640x480 with 1 Axes>"
            ]
          },
          "metadata": {},
          "output_type": "display_data"
        }
      ],
      "source": [
        "import matplotlib.pyplot as plt\n",
        "\n",
        "plt.plot([1, 2, 3], [4, 5, 6]) #cria o plot de linha\n",
        "plt.show() #mostra o plot\n",
        "\n",
        "plt.scatter([1, 2, 3], [4, 5, 6]) #cria o plot de pontos\n",
        "plt.show()"
      ]
    },
    {
      "cell_type": "markdown",
      "metadata": {
        "id": "bwfBdIyGQqSK"
      },
      "source": [
        "## Autores\n",
        "\n",
        "<a href=\"https://www.linkedin.com/in/eduardopecora/\" target=\"_blank\">Eduardo Pecora</a>\n",
        "\n",
        "<a href=\"https://www.linkedin.com/in/jo%C3%A3o-gabriel-santin-botelho-618244222/\" target=\"_blank\">João Gabriel Santin Botelho</a>\n",
        "\n",
        "\n",
        "## Log de modificações\n",
        "\n",
        "| Data | Versão | Modificado por | Descrição |\n",
        "| ----------------- | ------- | ---------- | ---------------------------------- |\n",
        "| 29-08-2024       | 1.0     | Eduardo Pecora & João Gabriel| Inicial               |\n",
        "\n",
        "<hr>\n",
        "\n",
        "## <h3 align=\"center\"> (c) Liga Data Science/ UFPR 2024. All rights reserved. <h3/>"
      ]
    }
  ],
  "metadata": {
    "colab": {
      "include_colab_link": true,
      "provenance": []
    },
    "kernelspec": {
      "display_name": "venv",
      "language": "python",
      "name": "python3"
    },
    "language_info": {
      "codemirror_mode": {
        "name": "ipython",
        "version": 3
      },
      "file_extension": ".py",
      "mimetype": "text/x-python",
      "name": "python",
      "nbconvert_exporter": "python",
      "pygments_lexer": "ipython3",
      "version": "3.13.1"
    }
  },
  "nbformat": 4,
  "nbformat_minor": 0
}
