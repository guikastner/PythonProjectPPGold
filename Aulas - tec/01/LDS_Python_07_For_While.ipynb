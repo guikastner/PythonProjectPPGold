{
  "cells": [
    {
      "cell_type": "markdown",
      "metadata": {
        "colab_type": "text",
        "id": "view-in-github"
      },
      "source": [
        "<a href=\"https://colab.research.google.com/github/EduPekUfpr/Python/blob/main/LDS_Python_06_For_While.ipynb\" target=\"_parent\"><img src=\"https://colab.research.google.com/assets/colab-badge.svg\" alt=\"Open In Colab\"/></a>"
      ]
    },
    {
      "cell_type": "markdown",
      "metadata": {
        "id": "kxQ0h6rEsuR9"
      },
      "source": [
        "<p style =\"text-align:center\">\n",
        "    <img src=\"http://epecora.com.br/DataFiles/BannerUFPR.png\" width=\"700\" alt=\"PPGOLD/PPGMNE Python:INTRO\"  />\n",
        "</p>\n",
        "\n",
        "\n",
        "# **Python Básico**\n",
        "\n",
        "\n",
        "<a id=\"control\"></a>\n",
        "# **Estruturas de Controle**\n",
        "\n",
        "As estruturas de controle em Python permitem que você tome decisões e execute diferentes blocos de código com base em condições específicas. Elas são fundamentais para criar programas que possam lidar com diferentes situações e realizar tarefas complexas.\n",
        "\n",
        "## Repetição\n",
        "\n",
        "As estruturas de repetição são as que repetem parte do código caso uma condição seja satisfeita.\n",
        "### `for`\n",
        "\n",
        "A estrutura `for` serve como uma forma de caminhar por estruturas que tem seu conteudo conhecido, isto é, sabemos que o processo deve começar em \"a\" e terminar em \"z\".\n",
        "\n",
        "## Sintax\n",
        "```python\n",
        "for condição:\n",
        "    # bloco de código\n",
        "```"
      ]
    },
    {
      "cell_type": "code",
      "execution_count": 1,
      "metadata": {
        "colab": {
          "base_uri": "https://localhost:8080/"
        },
        "id": "x-eBf3LMsuSM",
        "outputId": "053e025d-c7db-4a5a-9973-2ebc44029438"
      },
      "outputs": [
        {
          "name": "stdout",
          "output_type": "stream",
          "text": [
            "-10\n",
            "0\n",
            "10\n",
            "10\n"
          ]
        }
      ],
      "source": [
        "# Exemplo de uma estrutura de repetição utilizando for\n",
        "x = [-10,0,10,'10']\n",
        "\n",
        "for i in x:\n",
        "    print(i)"
      ]
    },
    {
      "cell_type": "markdown",
      "metadata": {
        "id": "J6iQiPznsuSM"
      },
      "source": [
        "A estrutura `for` é muito utilizada com o tipo `range()`"
      ]
    },
    {
      "cell_type": "code",
      "execution_count": 2,
      "metadata": {
        "colab": {
          "base_uri": "https://localhost:8080/"
        },
        "id": "yRmuqWLmsuSM",
        "outputId": "5ec5f10c-d24e-48c6-dbfc-3eebbc2ac950"
      },
      "outputs": [
        {
          "name": "stdout",
          "output_type": "stream",
          "text": [
            "0\n",
            "1\n",
            "2\n",
            "3\n",
            "4\n",
            "5\n",
            "6\n",
            "7\n",
            "8\n",
            "9\n"
          ]
        }
      ],
      "source": [
        "# Exemplo de uso do range()\n",
        "for i in range(10): #range(inicio)\n",
        "    print(i)"
      ]
    },
    {
      "cell_type": "code",
      "execution_count": 3,
      "metadata": {
        "colab": {
          "base_uri": "https://localhost:8080/"
        },
        "id": "JcGQ1ClUFhv4",
        "outputId": "e0a8f9a7-e017-4275-fc2b-90ccdfbb46cd"
      },
      "outputs": [
        {
          "name": "stdout",
          "output_type": "stream",
          "text": [
            "2\n",
            "3\n",
            "4\n",
            "5\n",
            "6\n",
            "7\n",
            "8\n",
            "9\n"
          ]
        }
      ],
      "source": [
        "# Exemplo de uso do range()\n",
        "for i in range(2,10): #range(inicio,fim)\n",
        "    print(i)"
      ]
    },
    {
      "cell_type": "code",
      "execution_count": 4,
      "metadata": {
        "colab": {
          "base_uri": "https://localhost:8080/"
        },
        "id": "4cFCznMyFkkN",
        "outputId": "0d896f14-0b5a-457f-e9ef-5fcb7f865759"
      },
      "outputs": [
        {
          "name": "stdout",
          "output_type": "stream",
          "text": [
            "2\n",
            "4\n",
            "6\n",
            "8\n"
          ]
        }
      ],
      "source": [
        "# Exemplo de uso do range()\n",
        "for i in range(2,10,2): #range(inicio,fim,passo)\n",
        "    print(i)"
      ]
    },
    {
      "cell_type": "code",
      "execution_count": 5,
      "metadata": {
        "colab": {
          "base_uri": "https://localhost:8080/"
        },
        "id": "INxWouy0suSM",
        "outputId": "752cbe11-56e3-44b4-a4b7-6edfd802f4da"
      },
      "outputs": [
        {
          "name": "stdout",
          "output_type": "stream",
          "text": [
            "4\n",
            "3\n",
            "2\n",
            "1\n",
            "0\n"
          ]
        }
      ],
      "source": [
        "# Exemplo de uso do range() reverso.\n",
        "for i in range(4,-1,-1): #range(inicio,fim,paso)\n",
        "    print(i)"
      ]
    },
    {
      "cell_type": "markdown",
      "metadata": {
        "id": "TM10Iz6WsuSM"
      },
      "source": [
        "### `while`\n",
        "\n",
        "A estrutura `while` serve como uma forma repetir um processo até que alguma condição seja atendida."
      ]
    },
    {
      "cell_type": "code",
      "execution_count": 6,
      "metadata": {
        "id": "BRvTCzpLsuSN",
        "outputId": "00369c1c-6c76-41d4-b58c-11647e31884b"
      },
      "outputs": [
        {
          "name": "stdout",
          "output_type": "stream",
          "text": [
            "0\n",
            "1\n",
            "2\n",
            "3\n",
            "4\n"
          ]
        }
      ],
      "source": [
        "# Exemplo de uma estrutura de repetição utilizando while\n",
        "x = 0\n",
        "\n",
        "while x < 5:\n",
        "    print(x)\n",
        "    x += 1 #mesmo que x = x + 1"
      ]
    },
    {
      "cell_type": "markdown",
      "metadata": {
        "id": "FE3_3ymOsuSN"
      },
      "source": [
        "Com o `while` é importante sempre estabelecer uma forma de não entrar em um loop infinito. Isso pode ser feito incluindo um contador no loop, além da condicional já utilizada, ou utilizando a estrutura `break` que mostraremos a seguir."
      ]
    },
    {
      "cell_type": "markdown",
      "metadata": {
        "id": "6ZaXdtxGsuSN"
      },
      "source": [
        "## `break` e `continue`\n",
        "\n",
        "A estrutura `break` interrope o loop todo. A estrutura `continue` interrope a iteração atual e passa para a próxima."
      ]
    },
    {
      "cell_type": "code",
      "execution_count": 7,
      "metadata": {
        "colab": {
          "base_uri": "https://localhost:8080/"
        },
        "id": "AgOBKqjxsuSN",
        "outputId": "2a06767d-af66-4f29-b93e-c0b4bc8c3d38"
      },
      "outputs": [
        {
          "name": "stdout",
          "output_type": "stream",
          "text": [
            "0\n",
            "1\n",
            "2\n",
            "3\n",
            "4\n",
            "5\n"
          ]
        }
      ],
      "source": [
        "# Exemplo de utilização do break\n",
        "x = 0\n",
        "\n",
        "while x < 10:\n",
        "    print(x)\n",
        "    if x > 4:\n",
        "        break\n",
        "    x += 1"
      ]
    },
    {
      "cell_type": "code",
      "execution_count": 8,
      "metadata": {
        "id": "BxoZ6dftsuSN",
        "outputId": "b93e2c3f-83b8-4583-d977-4c1acc5941d0"
      },
      "outputs": [
        {
          "name": "stdout",
          "output_type": "stream",
          "text": [
            "1\n",
            "3\n",
            "5\n",
            "7\n",
            "9\n"
          ]
        }
      ],
      "source": [
        "# Exemplo de utilização do continue\n",
        "for i in range(10):\n",
        "    if i % 2 == 0:\n",
        "        continue\n",
        "    print(i)"
      ]
    },
    {
      "cell_type": "markdown",
      "metadata": {
        "id": "bwfBdIyGQqSK"
      },
      "source": [
        "## Autores\n",
        "\n",
        "<a href=\"https://www.linkedin.com/in/eduardopecora/\" target=\"_blank\">Eduardo Pecora</a>\n",
        "\n",
        "<a href=\"https://www.linkedin.com/in/jo%C3%A3o-gabriel-santin-botelho-618244222/\" target=\"_blank\">João Gabriel Santin Botelho</a>\n",
        "\n",
        "\n",
        "## Log de modificações\n",
        "\n",
        "| Data | Versão | Modificado por | Descrição |\n",
        "| ----------------- | ------- | ---------- | ---------------------------------- |\n",
        "| 29-08-2024       | 1.0     | Eduardo Pecora & João Gabriel| Inicial               |\n",
        "\n",
        "<hr>\n",
        "\n",
        "## <h3 align=\"center\"> (c) Liga Data Science/ UFPR 2024. All rights reserved. <h3/>"
      ]
    }
  ],
  "metadata": {
    "colab": {
      "include_colab_link": true,
      "provenance": []
    },
    "kernelspec": {
      "display_name": "venv",
      "language": "python",
      "name": "python3"
    },
    "language_info": {
      "codemirror_mode": {
        "name": "ipython",
        "version": 3
      },
      "file_extension": ".py",
      "mimetype": "text/x-python",
      "name": "python",
      "nbconvert_exporter": "python",
      "pygments_lexer": "ipython3",
      "version": "3.13.1"
    }
  },
  "nbformat": 4,
  "nbformat_minor": 0
}
