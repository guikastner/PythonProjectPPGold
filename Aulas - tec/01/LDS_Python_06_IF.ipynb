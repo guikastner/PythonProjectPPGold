{
  "cells": [
    {
      "cell_type": "markdown",
      "metadata": {
        "colab_type": "text",
        "id": "view-in-github"
      },
      "source": [
        "<a href=\"https://colab.research.google.com/github/EduPekUfpr/Python/blob/main/LDS_Python_06_IF.ipynb\" target=\"_parent\"><img src=\"https://colab.research.google.com/assets/colab-badge.svg\" alt=\"Open In Colab\"/></a>"
      ]
    },
    {
      "cell_type": "markdown",
      "metadata": {
        "id": "kxQ0h6rEsuR9"
      },
      "source": [
        "<p style =\"text-align:center\">\n",
        "    <img src=\"http://epecora.com.br/DataFiles/BannerUFPR.png\" width=\"700\" alt=\"PPGOLD/PPGMNE Python:INTRO\"  />\n",
        "</p>\n",
        "\n",
        "\n",
        "# **Python Básico**\n",
        "# Prof. Eduardo Pécora\n",
        "\n",
        "\n",
        "<a id=\"control\"></a>\n",
        "# **Estruturas de Controle**\n",
        "\n",
        "As estruturas de controle em Python permitem que você tome decisões e execute diferentes blocos de código com base em condições específicas. Elas são fundamentais para criar programas que possam lidar com diferentes situações e realizar tarefas complexas.\n",
        "\n",
        "Vamos explorar as principais estruturas de controle:\n",
        "- Condicionais: `if`, `elif`, `else`;\n",
        "- Repetição: `for`, `while`.\n",
        "\n",
        "# Introdução às condicionais em Python\n",
        "\n",
        "* Condicionais são usadas para tomar decisões com base em condições específicas.\n",
        "* Em Python, as estruturas condicionais mais comuns são if, elif e else.\n",
        "\n",
        "## Sintax\n",
        "```python\n",
        "if condição:\n",
        "    # bloco de código\n",
        "else:\n",
        "    # bloco de código\n",
        "```"
      ]
    },
    {
      "cell_type": "code",
      "execution_count": 2,
      "metadata": {
        "colab": {
          "base_uri": "https://localhost:8080/"
        },
        "id": "1bbe79e0-e4b4-4c26-86f3-11fdbe366ff4",
        "outputId": "a6ee6a3a-64fb-498a-f735-a83c6277de15"
      },
      "outputs": [
        {
          "name": "stdout",
          "output_type": "stream",
          "text": [
            "O número é negativo.\n"
          ]
        }
      ],
      "source": [
        "# Exemplo básico de condicional\n",
        "\n",
        "# Suponha que queremos verificar se um número é positivo ou negativo.\n",
        "\n",
        "numero = -5\n",
        "\n",
        "if numero > 0:\n",
        "    print(\"O número é positivo.\")\n",
        "else:\n",
        "    print(\"O número é negativo.\")\n"
      ]
    },
    {
      "cell_type": "markdown",
      "metadata": {
        "id": "43d9c912-65a7-44a1-ad81-c4a36e02508c"
      },
      "source": [
        "## Operadores de comparação comuns em Python:\n",
        "* '>' : Maior que\n",
        "* < : Menor que\n",
        "* '>=' : Maior ou igual a\n",
        "* <=: Menor ou igual a\n",
        "* ==: Igual a\n",
        "* !=: Diferente de\n",
        "\n",
        "## Exemplo com elif:\n",
        "\n",
        "Sintax\n",
        "\n",
        "```python\n",
        "if condição1:\n",
        "    # bloco de código\n",
        "elif condição2:\n",
        "    # bloco de código\n",
        "else:\n",
        "    # bloco de código\n",
        "```"
      ]
    },
    {
      "cell_type": "code",
      "execution_count": 4,
      "metadata": {
        "colab": {
          "base_uri": "https://localhost:8080/"
        },
        "id": "8f632c50-33ae-4e8a-9a2f-037cfaa4a604",
        "outputId": "3a60817e-6a94-4eb5-aafa-b4b42a49db7b"
      },
      "outputs": [
        {
          "name": "stdout",
          "output_type": "stream",
          "text": [
            "Reprovado.\n"
          ]
        }
      ],
      "source": [
        "# Suponha que queremos classificar um aluno com base em sua nota.\n",
        "\n",
        "nota = 60\n",
        "\n",
        "if nota >= 90:\n",
        "    print(\"Aprovado com distinção!\")\n",
        "elif nota >= 70:\n",
        "    print(\"Aprovado!\")\n",
        "else:\n",
        "    print(\"Reprovado.\")"
      ]
    },
    {
      "cell_type": "markdown",
      "metadata": {
        "id": "8136bd41-024c-4af9-9974-f70928a8d6f7"
      },
      "source": [
        "## Condicionais Múltiplas\n",
        "\n",
        "Em Python, os conectores lógicos (também chamados de operadores lógicos) são usados para combinar expressões booleanas, retornando um valor True ou False com base nas condições avaliadas. Os principais conectores lógicos em Python são:\n",
        "\n",
        "* ```and``` : Retorna True se ambas as expressões forem verdadeiras.\n",
        "* ```or``` : Retorna True se pelo menos uma das expressões for verdadeira.\n",
        "* ```not``` :  Inverte o valor lógico da expressão. Se a expressão for True, not a tornará False e vice-versa.\n",
        "\n",
        "## Exemplo 1: Verificar se um número está entre dois valores"
      ]
    },
    {
      "cell_type": "code",
      "execution_count": 5,
      "metadata": {
        "colab": {
          "base_uri": "https://localhost:8080/"
        },
        "id": "092b43e7-f32c-4e31-9994-43944132a1e5",
        "outputId": "6b411248-fe46-486f-83a4-2ca1af71eb5c"
      },
      "outputs": [
        {
          "name": "stdout",
          "output_type": "stream",
          "text": [
            "O número está entre 10 e 20\n"
          ]
        }
      ],
      "source": [
        "numero = 15\n",
        "\n",
        "limite_inferior = 10\n",
        "limite_superior = 20\n",
        "\n",
        "if limite_inferior <= numero <= limite_superior:\n",
        "    print(\"O número está entre\", limite_inferior, \"e\", limite_superior)\n",
        "else:\n",
        "    print(\"O número está fora do intervalo.\")"
      ]
    },
    {
      "cell_type": "markdown",
      "metadata": {
        "id": "c5e4e5e3-388d-4dc7-ac0c-2c1cc33a89ed"
      },
      "source": [
        "## Exemplo 2: Verificar se uma pessoa é maior de idade e tem permissão para dirigir"
      ]
    },
    {
      "cell_type": "code",
      "execution_count": 6,
      "metadata": {
        "colab": {
          "base_uri": "https://localhost:8080/"
        },
        "id": "98fcb162-a262-4622-8aed-76f555a32995",
        "outputId": "2c9121a3-0115-4949-bbcf-89931cf4f768"
      },
      "outputs": [
        {
          "name": "stdout",
          "output_type": "stream",
          "text": [
            "A pessoa é maior de idade e tem permissão para dirigir.\n"
          ]
        }
      ],
      "source": [
        "idade = 18\n",
        "tem_carta_de_motorista = True\n",
        "\n",
        "if idade >= 18 and tem_carta_de_motorista:\n",
        "    print(\"A pessoa é maior de idade e tem permissão para dirigir.\")\n",
        "else:\n",
        "    print(\"A pessoa não atende aos requisitos para dirigir.\")"
      ]
    },
    {
      "cell_type": "markdown",
      "metadata": {
        "id": "997eb037-f334-4b1b-a40d-4382d150d3d7"
      },
      "source": [
        "## Exemplo3: Verificar se um número é positivo OU par"
      ]
    },
    {
      "cell_type": "code",
      "execution_count": 7,
      "metadata": {
        "colab": {
          "base_uri": "https://localhost:8080/"
        },
        "id": "bb9dde08-9d27-472b-b549-47a9d53878f2",
        "outputId": "74ca9497-a316-4e50-bb09-08d2704109d4"
      },
      "outputs": [
        {
          "name": "stdout",
          "output_type": "stream",
          "text": [
            "O número é positivo ou par.\n"
          ]
        }
      ],
      "source": [
        "numero = -4\n",
        "\n",
        "if numero > 0 or numero % 2 == 0:\n",
        "    print(\"O número é positivo ou par.\")\n",
        "else:\n",
        "    print(\"O número não é positivo nem par.\")"
      ]
    },
    {
      "cell_type": "markdown",
      "metadata": {
        "id": "tgJ789HGE8iE"
      },
      "source": [
        "## Condicionais DENTRO de condicionais"
      ]
    },
    {
      "cell_type": "code",
      "execution_count": 8,
      "metadata": {
        "colab": {
          "base_uri": "https://localhost:8080/"
        },
        "id": "ez2hdYoGsuSM",
        "outputId": "646182a0-0e71-48ba-cfc1-6ca75ed8479b"
      },
      "outputs": [
        {
          "name": "stdout",
          "output_type": "stream",
          "text": [
            "Valor -10 é negativo!\n",
            "Valor 0 é igual a zero!\n",
            "Valor 10 é positivo!\n",
            "Valor 10 não é um número!\n"
          ]
        }
      ],
      "source": [
        "# Exemplo de uma estrutura condicional utilizando if, elif, else.\n",
        "x = [-10,0,10,'10']\n",
        "\n",
        "for i in range(len(x)):\n",
        "  if (type(x[i]) == int) or (type(x[i]) == float): #caso o valor seja inteiro ou float\n",
        "      if x[i] == 0:\n",
        "          print(f'Valor {x[i]} é igual a zero!')\n",
        "      elif x[i] > 0:\n",
        "          print(f'Valor {x[i]} é positivo!')\n",
        "      else:\n",
        "          print(f'Valor {x[i]} é negativo!')\n",
        "\n",
        "  else: #se não é inteiro ou float\n",
        "      print(f'Valor {x[i]} não é um número!')"
      ]
    },
    {
      "cell_type": "markdown",
      "metadata": {
        "id": "bwfBdIyGQqSK"
      },
      "source": [
        "## Autores\n",
        "\n",
        "<a href=\"https://www.linkedin.com/in/eduardopecora/\" target=\"_blank\">Eduardo Pecora</a>\n",
        "\n",
        "<a href=\"https://www.linkedin.com/in/jo%C3%A3o-gabriel-santin-botelho-618244222/\" target=\"_blank\">João Gabriel Santin Botelho</a>\n",
        "\n",
        "\n",
        "## Log de modificações\n",
        "\n",
        "| Data | Versão | Modificado por | Descrição |\n",
        "| ----------------- | ------- | ---------- | ---------------------------------- |\n",
        "| 29-08-2024       | 1.0     | Eduardo Pecora & João Gabriel| Inicial               |\n",
        "\n",
        "<hr>\n",
        "\n",
        "## <h3 align=\"center\"> (c) Liga Data Science/ UFPR 2024. All rights reserved. <h3/>"
      ]
    }
  ],
  "metadata": {
    "colab": {
      "include_colab_link": true,
      "provenance": []
    },
    "kernelspec": {
      "display_name": "venv",
      "language": "python",
      "name": "python3"
    },
    "language_info": {
      "codemirror_mode": {
        "name": "ipython",
        "version": 3
      },
      "file_extension": ".py",
      "mimetype": "text/x-python",
      "name": "python",
      "nbconvert_exporter": "python",
      "pygments_lexer": "ipython3",
      "version": "3.13.1"
    }
  },
  "nbformat": 4,
  "nbformat_minor": 0
}
