{
  "cells": [
    {
      "cell_type": "markdown",
      "metadata": {
        "id": "kxQ0h6rEsuR9"
      },
      "source": [
        "<p style =\"text-align:center\">\n",
        "    <img src=\"http://epecora.com.br/DataFiles/BannerUFPR.png\" width=\"700\" alt=\"PPGOLD/PPGMNE Python:INTRO\"  />\n",
        "</p>\n",
        "\n",
        "\n",
        "# **Python Básico**\n",
        "\n",
        "Nesta sequência de vídeos cobriremos os seguintes tópicos:\n",
        "\n",
        "1. [Introdução ao Python](#Intro)\n",
        "2. [Tipos de Dados e Variáveis](#data)\n",
        "3. [Estruturas de Controle](#control)\n",
        "4. [Funções](#functions)\n",
        "5. [Módulos e Pacotes](#modules)"
      ]
    },
    {
      "cell_type": "markdown",
      "metadata": {
        "id": "ltqbPkrcsuR_"
      },
      "source": [
        "<a id=\"intro\"></a>\n",
        "# **Introdução ao Python**\n",
        "\n",
        "Python é uma linguagem interpretada, o que significa que executa o código linha por linha, convertendo cada linha em código de máquina antes de rodá-la. Isso contrasta com linguagens compiladas como C ou Java, onde o programa inteiro é compilado em código de máquina antes da execução.\n",
        "\n",
        "Python pode ser utilizado de diferentes formas:\n",
        "\n",
        "- **Modo Interativo**: Você pode usar Python no modo interativo, onde você digita comandos Python diretamente no interpretador, e eles são executados imediatamente;\n",
        "- **Modo Script**: Você pode escrever código Python em um arquivo com a extensão `.py` e executá-lo como um script usando o interpretador;\n",
        "- **Notebooks**: Os jupyter notebooks (como este que você está lendo) podem entrar na categoria de interativos. Eles normalmente são utilizados para dar contexto e permitir a exposição de análises e resultados feitos no Python. Consequentemente, eles são muito populares na área de análise de dados. Também pelo fato de podermos alternar blocos de texto (markdown) e código eles são extremamente úteis para o ensino. Os Notebooks têm a extensão ```.ipynb```.\n",
        "\n"
      ]
    },
    {
      "cell_type": "markdown",
      "metadata": {
        "id": "LHmLrjwHsuR_"
      },
      "source": [
        "## Seu primeiro programa"
      ]
    },
    {
      "cell_type": "code",
      "execution_count": 2,
      "metadata": {
        "colab": {
          "base_uri": "https://localhost:8080/"
        },
        "id": "mQnwkDFosuR_",
        "outputId": "4463d6cd-010d-4e6f-94fc-93617656477a"
      },
      "outputs": [
        {
          "name": "stdout",
          "output_type": "stream",
          "text": [
            "Hello PPGold!\n"
          ]
        }
      ],
      "source": [
        "print('Hello PPGold!')"
      ]
    },
    {
      "cell_type": "markdown",
      "metadata": {
        "id": "K51AsTRosuSA"
      },
      "source": [
        "## Sintaxe\n",
        "\n",
        "A sintaxe do Python é projetada para ser limpa e fácil de ler e escrever. Variáveis não precisão ter seus tipos definidos à priori, ou seja, é uma linguagem de programação não tipada."
      ]
    },
    {
      "cell_type": "code",
      "execution_count": 6,
      "metadata": {
        "colab": {
          "base_uri": "https://localhost:8080/"
        },
        "id": "ckhQmLEJsuSA",
        "outputId": "1268822b-2a6c-4e2f-ace9-adb6c08efd76"
      },
      "outputs": [
        {
          "name": "stdout",
          "output_type": "stream",
          "text": [
            "<class 'int'>\n"
          ]
        }
      ],
      "source": [
        "x = 10\n",
        "print(type(x))"
      ]
    },
    {
      "cell_type": "code",
      "execution_count": 7,
      "metadata": {
        "id": "QX9mrpexsuSB",
        "outputId": "1f3f9759-d35c-46a2-9fcb-a3b35205982b"
      },
      "outputs": [
        {
          "name": "stdout",
          "output_type": "stream",
          "text": [
            "<class 'float'>\n"
          ]
        }
      ],
      "source": [
        "y = 10.0\n",
        "print(type(y))"
      ]
    },
    {
      "cell_type": "markdown",
      "metadata": {
        "id": "ZDlepNGZsuSB"
      },
      "source": [
        "Ao contrário de muitas outras linguagens de programação, Python usa indentação para definir a estrutura do código, em vez de chaves `{}` ou palavras-chave como `begin` e `end`."
      ]
    },
    {
      "cell_type": "markdown",
      "metadata": {
        "id": "inLYLEpJsuSB"
      },
      "source": [
        "Com identação:"
      ]
    },
    {
      "cell_type": "code",
      "execution_count": 8,
      "metadata": {
        "colab": {
          "base_uri": "https://localhost:8080/"
        },
        "id": "1NJ9vz75suSB",
        "outputId": "0ba73799-3609-4ba1-a3b9-c8811f1d15fa"
      },
      "outputs": [
        {
          "name": "stdout",
          "output_type": "stream",
          "text": [
            "Número não positivo\n"
          ]
        }
      ],
      "source": [
        "x = -3\n",
        "if x > 0:\n",
        "  print(\"Número positivo\")\n",
        "else:\n",
        "  print(\"Número não positivo\")"
      ]
    },
    {
      "cell_type": "markdown",
      "metadata": {
        "id": "XIEehsTqsuSB"
      },
      "source": [
        "Sem identação: <font color='green'>(vai dar erro!)</font>\n",
        "\n",
        "Tem que identar"
      ]
    },
    {
      "cell_type": "code",
      "execution_count": 9,
      "metadata": {
        "colab": {
          "base_uri": "https://localhost:8080/",
          "height": 106
        },
        "id": "fJB95WMvsuSB",
        "outputId": "7dd6c25d-c02d-4982-edc9-9801da6b9f19"
      },
      "outputs": [
        {
          "name": "stdout",
          "output_type": "stream",
          "text": [
            "Número não positivo\n"
          ]
        }
      ],
      "source": [
        "if x > 0:\n",
        "    print(\"Número positivo\")\n",
        "else:\n",
        "    print(\"Número não positivo\")"
      ]
    },
    {
      "cell_type": "markdown",
      "metadata": {
        "id": "qTuFYVDOsuSB"
      },
      "source": [
        "Outra característica do python é a diferenciação entre letras maiúsculas e minúsculas"
      ]
    },
    {
      "cell_type": "code",
      "execution_count": 10,
      "metadata": {
        "colab": {
          "base_uri": "https://localhost:8080/"
        },
        "id": "nMKIpCgisuSB",
        "outputId": "eb2d2638-b7b1-48a5-b1a9-2ba064686c7b"
      },
      "outputs": [
        {
          "name": "stdout",
          "output_type": "stream",
          "text": [
            "12\n",
            "6\n"
          ]
        }
      ],
      "source": [
        "Hora = 12\n",
        "hora = 6\n",
        "print(Hora)\n",
        "print(hora)"
      ]
    },
    {
      "cell_type": "markdown",
      "metadata": {
        "id": "9Qr4KxdNsuSC"
      },
      "source": [
        "## Comentários\n",
        "\n",
        "Comentar o código é uma boa prática de programação.\n",
        "\n",
        "Se habitue a fazer durante a construção do código. Isso informa a outras pessoas (ou até mesmo você daqui a um tempo) o que o seu código faz.\n",
        "\n",
        "Para criar uma linha de comentário basta colocar um símbolo de hash `#` no comentário. Quando você executar o código, o Python ignorará tudo o que estiver comentado."
      ]
    },
    {
      "cell_type": "code",
      "execution_count": 7,
      "metadata": {
        "id": "wX5UxPIlsuSC"
      },
      "outputs": [],
      "source": [
        "# Este é um comentário de uma linha"
      ]
    },
    {
      "cell_type": "markdown",
      "metadata": {
        "id": "NDwk4smpsuSC"
      },
      "source": [
        "Usar `#` em mútiplas linhas."
      ]
    },
    {
      "cell_type": "code",
      "execution_count": 8,
      "metadata": {
        "id": "UKwR-GWTsuSC"
      },
      "outputs": [],
      "source": [
        "# Este é um cometário de\n",
        "# múltiplas linhas"
      ]
    },
    {
      "cell_type": "markdown",
      "metadata": {
        "id": "MtCbdvXisuSC"
      },
      "source": [
        "## Erro de Sintaxe\n",
        "\n",
        "Um erro de sintaxe ocorre quando o Python não entende seu código. Por exemplo, se você escrever print \"frint\", receberá uma mensagem de erro."
      ]
    },
    {
      "cell_type": "code",
      "execution_count": 13,
      "metadata": {
        "colab": {
          "base_uri": "https://localhost:8080/",
          "height": 159
        },
        "id": "2GuH8wI7suSC",
        "outputId": "bf5f9af9-259d-4c4e-f12e-5dc69792705e"
      },
      "outputs": [
        {
          "name": "stdout",
          "output_type": "stream",
          "text": [
            "Hello Liga Data Science\n"
          ]
        }
      ],
      "source": [
        "# Impressão com erro\n",
        "#frint(\"Hello Liga Data Science\")\n",
        "print(\"Hello Liga Data Science\")\n",
        "#corrigi e comentei o errado"
      ]
    },
    {
      "cell_type": "markdown",
      "metadata": {
        "id": "87snx6hvsuSC"
      },
      "source": [
        "## Erro semântico\n",
        "\n",
        "Um erro semântico é quando sua lógica está errada. Por exemplo, se você digitar HelloW em vez de Hello. Você não recebe uma mensagem de erro, mas seu código está errado pois não era isso que você queria."
      ]
    },
    {
      "cell_type": "code",
      "execution_count": 10,
      "metadata": {
        "colab": {
          "base_uri": "https://localhost:8080/"
        },
        "id": "Cq2R3h8wsuSC",
        "outputId": "c8d7717d-e42c-4aa5-e434-0fcb023f1881"
      },
      "outputs": [
        {
          "name": "stdout",
          "output_type": "stream",
          "text": [
            "HelloW LIGA DTA SCIENCE\n"
          ]
        }
      ],
      "source": [
        "print(\"HelloW LIGA DTA SCIENCE\")"
      ]
    },
    {
      "cell_type": "markdown",
      "metadata": {
        "id": "KlpVObin4nWS"
      },
      "source": [
        "## Erro na sequência da execução dos blocos (chunks)"
      ]
    },
    {
      "cell_type": "code",
      "execution_count": 86,
      "metadata": {
        "id": "PfEYTDgj4uvN"
      },
      "outputs": [],
      "source": [
        "valor = 20"
      ]
    },
    {
      "cell_type": "code",
      "execution_count": 87,
      "metadata": {
        "colab": {
          "base_uri": "https://localhost:8080/"
        },
        "id": "2KKT0Imi4umr",
        "outputId": "f399790e-0877-4128-b3fb-8eea2a450680"
      },
      "outputs": [
        {
          "name": "stdout",
          "output_type": "stream",
          "text": [
            "20\n"
          ]
        }
      ],
      "source": [
        "print(valor)"
      ]
    },
    {
      "cell_type": "markdown",
      "metadata": {
        "id": "bwfBdIyGQqSK"
      },
      "source": [
        "## Autores\n",
        "\n",
        "<a href=\"https://www.linkedin.com/in/eduardopecora/\" target=\"_blank\">Eduardo Pecora</a>\n",
        "\n",
        "<a href=\"https://www.linkedin.com/in/jo%C3%A3o-gabriel-santin-botelho-618244222/\" target=\"_blank\">João Gabriel Santin Botelho</a>\n",
        "\n",
        "\n",
        "## Log de modificações\n",
        "\n",
        "| Data | Versão | Modificado por | Descrição |\n",
        "| ----------------- | ------- | ---------- | ---------------------------------- |\n",
        "| 29-08-2024       | 1.0     | Eduardo Pecora & João Gabriel| Inicial               |\n",
        "\n",
        "<hr>\n",
        "\n",
        "## <h3 align=\"center\"> (c) Liga Data Science/ UFPR 2024. All rights reserved. <h3/>"
      ]
    }
  ],
  "metadata": {
    "colab": {
      "provenance": []
    },
    "kernelspec": {
      "display_name": "venv",
      "language": "python",
      "name": "python3"
    },
    "language_info": {
      "codemirror_mode": {
        "name": "ipython",
        "version": 3
      },
      "file_extension": ".py",
      "mimetype": "text/x-python",
      "name": "python",
      "nbconvert_exporter": "python",
      "pygments_lexer": "ipython3",
      "version": "3.13.1"
    }
  },
  "nbformat": 4,
  "nbformat_minor": 0
}
